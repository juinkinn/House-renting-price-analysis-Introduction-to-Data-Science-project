{
 "cells": [
  {
   "cell_type": "code",
   "execution_count": 1,
   "metadata": {},
   "outputs": [],
   "source": [
    "import numpy as np\n",
    "import pandas as pd\n",
    "import time\n",
    "from selenium import webdriver\n",
    "from selenium.webdriver.common.by import By\n",
    "from selenium.common.exceptions import NoSuchElementException\n",
    "from bs4 import BeautifulSoup"
   ]
  },
  {
   "cell_type": "code",
   "execution_count": 2,
   "metadata": {},
   "outputs": [],
   "source": [
    "url = 'https://www.realestate.com.au/international/us/rent'\n",
    "\n",
    "browser = webdriver.Chrome()\n",
    "browser.get(url)\n",
    "browser.implicitly_wait(20)"
   ]
  },
  {
   "cell_type": "code",
   "execution_count": 3,
   "metadata": {},
   "outputs": [],
   "source": [
    "houses = pd.DataFrame(columns=[\n",
    "    'Price', \n",
    "    'Rooms',\n",
    "    'Type',\n",
    "    'Status',\n",
    "    'Parking Spaces',\n",
    "    'Land Size',\n",
    "    'Building Size',\n",
    "    'Architecture Style', \n",
    "    'County',\n",
    "    'Provider',\n",
    "])"
   ]
  },
  {
   "cell_type": "code",
   "execution_count": 4,
   "metadata": {},
   "outputs": [
    {
     "ename": "NoSuchElementException",
     "evalue": "Message: no such element: Unable to locate element: {\"method\":\"xpath\",\"selector\":\"//li[@title=\"Next Page\"]/a\"}\n  (Session info: chrome=130.0.6723.70); For documentation on this error, please visit: https://www.selenium.dev/documentation/webdriver/troubleshooting/errors#no-such-element-exception\nStacktrace:\n\tGetHandleVerifier [0x00007FF6A2D43AB5+28005]\n\t(No symbol) [0x00007FF6A2CA83B0]\n\t(No symbol) [0x00007FF6A2B4580A]\n\t(No symbol) [0x00007FF6A2B95A3E]\n\t(No symbol) [0x00007FF6A2B95D2C]\n\t(No symbol) [0x00007FF6A2BDEA97]\n\t(No symbol) [0x00007FF6A2BBBA7F]\n\t(No symbol) [0x00007FF6A2BDB8B3]\n\t(No symbol) [0x00007FF6A2BBB7E3]\n\t(No symbol) [0x00007FF6A2B875C8]\n\t(No symbol) [0x00007FF6A2B88731]\n\tGetHandleVerifier [0x00007FF6A303643D+3118829]\n\tGetHandleVerifier [0x00007FF6A3086C90+3448640]\n\tGetHandleVerifier [0x00007FF6A307CF0D+3408317]\n\tGetHandleVerifier [0x00007FF6A2E0A40B+841403]\n\t(No symbol) [0x00007FF6A2CB340F]\n\t(No symbol) [0x00007FF6A2CAF484]\n\t(No symbol) [0x00007FF6A2CAF61D]\n\t(No symbol) [0x00007FF6A2C9EB79]\n\tBaseThreadInitThunk [0x00007FF90152257D+29]\n\tRtlUserThreadStart [0x00007FF90176AF08+40]\n",
     "output_type": "error",
     "traceback": [
      "\u001b[1;31m---------------------------------------------------------------------------\u001b[0m",
      "\u001b[1;31mNoSuchElementException\u001b[0m                    Traceback (most recent call last)",
      "Cell \u001b[1;32mIn[4], line 44\u001b[0m\n\u001b[0;32m     41\u001b[0m     browser\u001b[38;5;241m.\u001b[39mclose()\n\u001b[0;32m     42\u001b[0m     browser\u001b[38;5;241m.\u001b[39mswitch_to\u001b[38;5;241m.\u001b[39mwindow(browser\u001b[38;5;241m.\u001b[39mwindow_handles[\u001b[38;5;241m0\u001b[39m])\n\u001b[1;32m---> 44\u001b[0m next_page \u001b[38;5;241m=\u001b[39m \u001b[43mbrowser\u001b[49m\u001b[38;5;241;43m.\u001b[39;49m\u001b[43mfind_element\u001b[49m\u001b[43m(\u001b[49m\u001b[43mBy\u001b[49m\u001b[38;5;241;43m.\u001b[39;49m\u001b[43mXPATH\u001b[49m\u001b[43m,\u001b[49m\u001b[43m \u001b[49m\u001b[38;5;124;43m'\u001b[39;49m\u001b[38;5;124;43m//li[@title=\u001b[39;49m\u001b[38;5;124;43m\"\u001b[39;49m\u001b[38;5;124;43mNext Page\u001b[39;49m\u001b[38;5;124;43m\"\u001b[39;49m\u001b[38;5;124;43m]/a\u001b[39;49m\u001b[38;5;124;43m'\u001b[39;49m\u001b[43m)\u001b[49m\n\u001b[0;32m     45\u001b[0m next_url \u001b[38;5;241m=\u001b[39m next_page\u001b[38;5;241m.\u001b[39mget_attribute(\u001b[38;5;124m'\u001b[39m\u001b[38;5;124mhref\u001b[39m\u001b[38;5;124m'\u001b[39m)\n\u001b[0;32m     46\u001b[0m browser\u001b[38;5;241m.\u001b[39mget(next_url)\n",
      "File \u001b[1;32mc:\\Users\\ADMIN\\miniconda3\\envs\\min_ds-env\\Lib\\site-packages\\selenium\\webdriver\\remote\\webdriver.py:748\u001b[0m, in \u001b[0;36mWebDriver.find_element\u001b[1;34m(self, by, value)\u001b[0m\n\u001b[0;32m    745\u001b[0m     by \u001b[38;5;241m=\u001b[39m By\u001b[38;5;241m.\u001b[39mCSS_SELECTOR\n\u001b[0;32m    746\u001b[0m     value \u001b[38;5;241m=\u001b[39m \u001b[38;5;124mf\u001b[39m\u001b[38;5;124m'\u001b[39m\u001b[38;5;124m[name=\u001b[39m\u001b[38;5;124m\"\u001b[39m\u001b[38;5;132;01m{\u001b[39;00mvalue\u001b[38;5;132;01m}\u001b[39;00m\u001b[38;5;124m\"\u001b[39m\u001b[38;5;124m]\u001b[39m\u001b[38;5;124m'\u001b[39m\n\u001b[1;32m--> 748\u001b[0m \u001b[38;5;28;01mreturn\u001b[39;00m \u001b[38;5;28;43mself\u001b[39;49m\u001b[38;5;241;43m.\u001b[39;49m\u001b[43mexecute\u001b[49m\u001b[43m(\u001b[49m\u001b[43mCommand\u001b[49m\u001b[38;5;241;43m.\u001b[39;49m\u001b[43mFIND_ELEMENT\u001b[49m\u001b[43m,\u001b[49m\u001b[43m \u001b[49m\u001b[43m{\u001b[49m\u001b[38;5;124;43m\"\u001b[39;49m\u001b[38;5;124;43musing\u001b[39;49m\u001b[38;5;124;43m\"\u001b[39;49m\u001b[43m:\u001b[49m\u001b[43m \u001b[49m\u001b[43mby\u001b[49m\u001b[43m,\u001b[49m\u001b[43m \u001b[49m\u001b[38;5;124;43m\"\u001b[39;49m\u001b[38;5;124;43mvalue\u001b[39;49m\u001b[38;5;124;43m\"\u001b[39;49m\u001b[43m:\u001b[49m\u001b[43m \u001b[49m\u001b[43mvalue\u001b[49m\u001b[43m}\u001b[49m\u001b[43m)\u001b[49m[\u001b[38;5;124m\"\u001b[39m\u001b[38;5;124mvalue\u001b[39m\u001b[38;5;124m\"\u001b[39m]\n",
      "File \u001b[1;32mc:\\Users\\ADMIN\\miniconda3\\envs\\min_ds-env\\Lib\\site-packages\\selenium\\webdriver\\remote\\webdriver.py:354\u001b[0m, in \u001b[0;36mWebDriver.execute\u001b[1;34m(self, driver_command, params)\u001b[0m\n\u001b[0;32m    352\u001b[0m response \u001b[38;5;241m=\u001b[39m \u001b[38;5;28mself\u001b[39m\u001b[38;5;241m.\u001b[39mcommand_executor\u001b[38;5;241m.\u001b[39mexecute(driver_command, params)\n\u001b[0;32m    353\u001b[0m \u001b[38;5;28;01mif\u001b[39;00m response:\n\u001b[1;32m--> 354\u001b[0m     \u001b[38;5;28;43mself\u001b[39;49m\u001b[38;5;241;43m.\u001b[39;49m\u001b[43merror_handler\u001b[49m\u001b[38;5;241;43m.\u001b[39;49m\u001b[43mcheck_response\u001b[49m\u001b[43m(\u001b[49m\u001b[43mresponse\u001b[49m\u001b[43m)\u001b[49m\n\u001b[0;32m    355\u001b[0m     response[\u001b[38;5;124m\"\u001b[39m\u001b[38;5;124mvalue\u001b[39m\u001b[38;5;124m\"\u001b[39m] \u001b[38;5;241m=\u001b[39m \u001b[38;5;28mself\u001b[39m\u001b[38;5;241m.\u001b[39m_unwrap_value(response\u001b[38;5;241m.\u001b[39mget(\u001b[38;5;124m\"\u001b[39m\u001b[38;5;124mvalue\u001b[39m\u001b[38;5;124m\"\u001b[39m, \u001b[38;5;28;01mNone\u001b[39;00m))\n\u001b[0;32m    356\u001b[0m     \u001b[38;5;28;01mreturn\u001b[39;00m response\n",
      "File \u001b[1;32mc:\\Users\\ADMIN\\miniconda3\\envs\\min_ds-env\\Lib\\site-packages\\selenium\\webdriver\\remote\\errorhandler.py:229\u001b[0m, in \u001b[0;36mErrorHandler.check_response\u001b[1;34m(self, response)\u001b[0m\n\u001b[0;32m    227\u001b[0m         alert_text \u001b[38;5;241m=\u001b[39m value[\u001b[38;5;124m\"\u001b[39m\u001b[38;5;124malert\u001b[39m\u001b[38;5;124m\"\u001b[39m]\u001b[38;5;241m.\u001b[39mget(\u001b[38;5;124m\"\u001b[39m\u001b[38;5;124mtext\u001b[39m\u001b[38;5;124m\"\u001b[39m)\n\u001b[0;32m    228\u001b[0m     \u001b[38;5;28;01mraise\u001b[39;00m exception_class(message, screen, stacktrace, alert_text)  \u001b[38;5;66;03m# type: ignore[call-arg]  # mypy is not smart enough here\u001b[39;00m\n\u001b[1;32m--> 229\u001b[0m \u001b[38;5;28;01mraise\u001b[39;00m exception_class(message, screen, stacktrace)\n",
      "\u001b[1;31mNoSuchElementException\u001b[0m: Message: no such element: Unable to locate element: {\"method\":\"xpath\",\"selector\":\"//li[@title=\"Next Page\"]/a\"}\n  (Session info: chrome=130.0.6723.70); For documentation on this error, please visit: https://www.selenium.dev/documentation/webdriver/troubleshooting/errors#no-such-element-exception\nStacktrace:\n\tGetHandleVerifier [0x00007FF6A2D43AB5+28005]\n\t(No symbol) [0x00007FF6A2CA83B0]\n\t(No symbol) [0x00007FF6A2B4580A]\n\t(No symbol) [0x00007FF6A2B95A3E]\n\t(No symbol) [0x00007FF6A2B95D2C]\n\t(No symbol) [0x00007FF6A2BDEA97]\n\t(No symbol) [0x00007FF6A2BBBA7F]\n\t(No symbol) [0x00007FF6A2BDB8B3]\n\t(No symbol) [0x00007FF6A2BBB7E3]\n\t(No symbol) [0x00007FF6A2B875C8]\n\t(No symbol) [0x00007FF6A2B88731]\n\tGetHandleVerifier [0x00007FF6A303643D+3118829]\n\tGetHandleVerifier [0x00007FF6A3086C90+3448640]\n\tGetHandleVerifier [0x00007FF6A307CF0D+3408317]\n\tGetHandleVerifier [0x00007FF6A2E0A40B+841403]\n\t(No symbol) [0x00007FF6A2CB340F]\n\t(No symbol) [0x00007FF6A2CAF484]\n\t(No symbol) [0x00007FF6A2CAF61D]\n\t(No symbol) [0x00007FF6A2C9EB79]\n\tBaseThreadInitThunk [0x00007FF90152257D+29]\n\tRtlUserThreadStart [0x00007FF90176AF08+40]\n"
     ]
    }
   ],
   "source": [
    "while len(houses) < 4000:\n",
    "    links = browser.find_elements(By.XPATH, '//div[@class=\"sc-1dun5hk-0 cOiOrj\"]/a')\n",
    "    urls = [link.get_attribute('href') for link in links]\n",
    "    \n",
    "    for sub_url in urls:\n",
    "        browser.execute_script(\"window.open(arguments[0], '_blank');\", sub_url)\n",
    "        browser.switch_to.window(browser.window_handles[1]) \n",
    "        \n",
    "        try:\n",
    "            price_tag = browser.find_element(By.XPATH, '//div[@class=\"sc-10v3xoh-1 cqrlhJ\"]')\n",
    "            price = price_tag.text\n",
    "        except NoSuchElementException:\n",
    "            price = None\n",
    "        \n",
    "        try:\n",
    "            info_list = browser.find_elements(By.XPATH, '//div[contains(@class, \"sc-12iqlu8-0\")]')\n",
    "            \n",
    "            basic_info = {}\n",
    "            for info in info_list:\n",
    "                key = info.find_element(By.XPATH, './/div[@class=\"sc-12iqlu8-1 Mguuo basicInfoKey\"]').text\n",
    "                value = info.find_element(By.XPATH, './/div[@class=\"sc-12iqlu8-2 dPeBQf basicInfoValue\"]').text\n",
    "                basic_info[key] = value\n",
    "            \n",
    "            house = pd.Series([\n",
    "                price,\n",
    "                basic_info.get('Rooms', None),\n",
    "                basic_info.get('Property Type', None),\n",
    "                basic_info.get('Listing Status', None),\n",
    "                basic_info.get('Parking Spaces', None),\n",
    "                basic_info.get('Land Size', None),\n",
    "                basic_info.get('Building Size', None),\n",
    "                basic_info.get('Architecture Style', None),\n",
    "                basic_info.get('County', None),\n",
    "                basic_info.get('Provider', None)\n",
    "            ], index=houses.columns)\n",
    "            \n",
    "            houses.loc[len(houses)] = house\n",
    "        except Exception as e:\n",
    "            print(f\"Error occurred while scraping {sub_url}: {e}\")\n",
    "        \n",
    "        browser.close()\n",
    "        browser.switch_to.window(browser.window_handles[0])\n",
    "\n",
    "    try:\n",
    "        next_page = browser.find_element(By.XPATH, '//li[@title=\"Next Page\"]/a')\n",
    "        next_url = next_page.get_attribute('href')\n",
    "        browser.get(next_url)\n",
    "    except NoSuchElementException:\n",
    "        break\n",
    "\n",
    "browser.quit()"
   ]
  },
  {
   "cell_type": "code",
   "execution_count": 5,
   "metadata": {},
   "outputs": [],
   "source": [
    "houses.to_csv('houses.csv', index=False)"
   ]
  }
 ],
 "metadata": {
  "kernelspec": {
   "display_name": "Python 3",
   "language": "python",
   "name": "python3"
  },
  "language_info": {
   "codemirror_mode": {
    "name": "ipython",
    "version": 3
   },
   "file_extension": ".py",
   "mimetype": "text/x-python",
   "name": "python",
   "nbconvert_exporter": "python",
   "pygments_lexer": "ipython3",
   "version": "3.11.9"
  }
 },
 "nbformat": 4,
 "nbformat_minor": 2
}
