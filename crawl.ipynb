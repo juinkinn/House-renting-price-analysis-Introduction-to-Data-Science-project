{
 "cells": [
  {
   "cell_type": "code",
   "execution_count": 5,
   "metadata": {},
   "outputs": [],
   "source": [
    "import numpy as np\n",
    "import pandas as pd\n",
    "import time\n",
    "from selenium import webdriver\n",
    "from selenium.webdriver.common.by import By\n",
    "from bs4 import BeautifulSoup"
   ]
  },
  {
   "cell_type": "code",
   "execution_count": 6,
   "metadata": {},
   "outputs": [],
   "source": [
    "url = 'https://www.realestate.com.au/international/us/rent'\n",
    "\n",
    "browser = webdriver.Chrome()\n",
    "browser.get(url)\n",
    "browser.implicitly_wait(20)"
   ]
  },
  {
   "cell_type": "code",
   "execution_count": 7,
   "metadata": {},
   "outputs": [],
   "source": [
    "houses = pd.DataFrame(columns=[\n",
    "    'Price', \n",
    "    'Rooms',\n",
    "    'Type',\n",
    "    'Status',\n",
    "    'Building Size',\n",
    "    'Architecture Style', \n",
    "    'County',\n",
    "    'Provider',\n",
    "])"
   ]
  },
  {
   "cell_type": "code",
   "execution_count": null,
   "metadata": {},
   "outputs": [],
   "source": [
    "while (len(houses) < 1000):\n",
    "    links = browser.find_elements(By.XPATH, '//div[@class=\"sc-1dun5hk-0 cOiOrj\"]/a')\n",
    "\n",
    "    urls = []\n",
    "    for link in links:\n",
    "        urls.append(link.get_attribute('href'))\n",
    "\n",
    "    for sub_url in urls:\n",
    "        browser.get(sub_url)\n",
    "        price = browser.find_element(By.XPATH, '//div[@class=\"sc-10v3xoh-1 cqrlhJ\"]').text\n",
    "        info_list = browser.find_elements(By.XPATH, '//div[contains(@class, \"sc-12iqlu8-0\")]')\n",
    "        \n",
    "        basic_info = {}\n",
    "        \n",
    "        for info in info_list:\n",
    "            key = info.find_element(By.XPATH, './/div[@class=\"sc-12iqlu8-1 Mguuo basicInfoKey\"]').text\n",
    "            value = info.find_element(By.XPATH, './/div[@class=\"sc-12iqlu8-2 dPeBQf basicInfoValue\"]').text\n",
    "            \n",
    "            basic_info[key] = value\n",
    "        \n",
    "        browser.back()    \n",
    "\n",
    "        house = pd.Series([\n",
    "            price,\n",
    "            basic_info.get('Rooms', None),\n",
    "            basic_info.get('Property Type', None),\n",
    "            basic_info.get('Listing Status', None),\n",
    "            basic_info.get('Building Size', None),\n",
    "            basic_info.get('Architecture Style', None),\n",
    "            basic_info.get('County', None),\n",
    "            basic_info.get('Provider', None)\n",
    "        ], index=['Price', 'Rooms', 'Type', 'Status', 'Building Size', 'Architecture Style', 'County', 'Provider'])\n",
    "        \n",
    "        houses.loc[len(houses)] = house\n",
    "        \n",
    "    \n",
    "    next_page = browser.find_element(By.XPATH, '//li[@title=\"Next Page\"]/a')\n",
    "    next_url = next_page.get_attribute('href')\n",
    "    \n",
    "    browser.get(next_url)\n",
    "    \n",
    "houses"
   ]
  }
 ],
 "metadata": {
  "kernelspec": {
   "display_name": "min_ds-env",
   "language": "python",
   "name": "python3"
  },
  "language_info": {
   "codemirror_mode": {
    "name": "ipython",
    "version": 3
   },
   "file_extension": ".py",
   "mimetype": "text/x-python",
   "name": "python",
   "nbconvert_exporter": "python",
   "pygments_lexer": "ipython3",
   "version": "3.12.7"
  }
 },
 "nbformat": 4,
 "nbformat_minor": 2
}
