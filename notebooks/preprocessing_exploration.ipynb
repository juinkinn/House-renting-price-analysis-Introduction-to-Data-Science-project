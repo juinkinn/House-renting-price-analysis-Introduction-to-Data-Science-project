{
 "cells": [
  {
   "cell_type": "markdown",
   "metadata": {},
   "source": [
    "# Final Project - Introduction to Data Science"
   ]
  },
  {
   "cell_type": "markdown",
   "metadata": {},
   "source": [
    "**Team members:**\n",
    "\n",
    "1. Nguyễn Hoàng Trung Kiên (Leader) - 22127478\n",
    "\n",
    "2. Quách Trần Quán Vinh - 22127460\n",
    "\n",
    "3. Ngô Hải Bằng - 22127460"
   ]
  },
  {
   "cell_type": "markdown",
   "metadata": {},
   "source": [
    "# I. Data exploring"
   ]
  },
  {
   "cell_type": "markdown",
   "metadata": {},
   "source": [
    "### Importing libraries"
   ]
  },
  {
   "cell_type": "code",
   "execution_count": 219,
   "metadata": {},
   "outputs": [],
   "source": [
    "import pandas as pd\n",
    "import numpy as np\n",
    "import re\n",
    "import matplotlib.pyplot as plt\n",
    "from rapidfuzz import process\n",
    "import seaborn as sns"
   ]
  },
  {
   "cell_type": "markdown",
   "metadata": {},
   "source": [
    "## 0. Read data"
   ]
  },
  {
   "cell_type": "code",
   "execution_count": 220,
   "metadata": {},
   "outputs": [
    {
     "data": {
      "text/html": [
       "<div>\n",
       "<style scoped>\n",
       "    .dataframe tbody tr th:only-of-type {\n",
       "        vertical-align: middle;\n",
       "    }\n",
       "\n",
       "    .dataframe tbody tr th {\n",
       "        vertical-align: top;\n",
       "    }\n",
       "\n",
       "    .dataframe thead th {\n",
       "        text-align: right;\n",
       "    }\n",
       "</style>\n",
       "<table border=\"1\" class=\"dataframe\">\n",
       "  <thead>\n",
       "    <tr style=\"text-align: right;\">\n",
       "      <th></th>\n",
       "      <th>Price</th>\n",
       "      <th>Rooms</th>\n",
       "      <th>Type</th>\n",
       "      <th>Status</th>\n",
       "      <th>Parking Spaces</th>\n",
       "      <th>Land Size</th>\n",
       "      <th>Building Size</th>\n",
       "      <th>Architecture Style</th>\n",
       "      <th>County</th>\n",
       "      <th>Provider</th>\n",
       "    </tr>\n",
       "  </thead>\n",
       "  <tbody>\n",
       "    <tr>\n",
       "      <th>0</th>\n",
       "      <td>USD $2,200 per month</td>\n",
       "      <td>3 bedroom(s), 2 bathroom(s)</td>\n",
       "      <td>House</td>\n",
       "      <td>Active</td>\n",
       "      <td>NaN</td>\n",
       "      <td>NaN</td>\n",
       "      <td>136.20 m2</td>\n",
       "      <td>Other</td>\n",
       "      <td>Mohave</td>\n",
       "      <td>Black Mountain Valley Realty, Inc</td>\n",
       "    </tr>\n",
       "    <tr>\n",
       "      <th>1</th>\n",
       "      <td>USD $3,000 per month</td>\n",
       "      <td>2 bedroom(s), 3 bathroom(s)</td>\n",
       "      <td>Apartment</td>\n",
       "      <td>Active</td>\n",
       "      <td>NaN</td>\n",
       "      <td>161.87 m2</td>\n",
       "      <td>205.13 m2</td>\n",
       "      <td>Other</td>\n",
       "      <td>PHILADELPHIA</td>\n",
       "      <td>Compass</td>\n",
       "    </tr>\n",
       "    <tr>\n",
       "      <th>2</th>\n",
       "      <td>USD $1,195 per month</td>\n",
       "      <td>1 bedroom(s), 1 bathroom(s)</td>\n",
       "      <td>Apartment</td>\n",
       "      <td>Active</td>\n",
       "      <td>NaN</td>\n",
       "      <td>768.90 m2</td>\n",
       "      <td>NaN</td>\n",
       "      <td>Other</td>\n",
       "      <td>PHILADELPHIA</td>\n",
       "      <td>OCF Realty</td>\n",
       "    </tr>\n",
       "    <tr>\n",
       "      <th>3</th>\n",
       "      <td>USD $8,000 per month</td>\n",
       "      <td>4 bedroom(s), 3 bathroom(s)</td>\n",
       "      <td>Townhouse</td>\n",
       "      <td>Active</td>\n",
       "      <td>NaN</td>\n",
       "      <td>728.43 m2</td>\n",
       "      <td>213.68 m2</td>\n",
       "      <td>Other</td>\n",
       "      <td>Ventura</td>\n",
       "      <td>eXp Realty of California Inc.</td>\n",
       "    </tr>\n",
       "    <tr>\n",
       "      <th>4</th>\n",
       "      <td>USD $5,600 per month</td>\n",
       "      <td>4 bedroom(s), 3 bathroom(s), 1 basement(s)</td>\n",
       "      <td>House</td>\n",
       "      <td>Active</td>\n",
       "      <td>4.0</td>\n",
       "      <td>849.84 m2</td>\n",
       "      <td>266.72 m2</td>\n",
       "      <td>Colonial</td>\n",
       "      <td>FAIRFAX</td>\n",
       "      <td>Keller Williams Fairfax Gateway</td>\n",
       "    </tr>\n",
       "    <tr>\n",
       "      <th>...</th>\n",
       "      <td>...</td>\n",
       "      <td>...</td>\n",
       "      <td>...</td>\n",
       "      <td>...</td>\n",
       "      <td>...</td>\n",
       "      <td>...</td>\n",
       "      <td>...</td>\n",
       "      <td>...</td>\n",
       "      <td>...</td>\n",
       "      <td>...</td>\n",
       "    </tr>\n",
       "    <tr>\n",
       "      <th>3995</th>\n",
       "      <td>USD $2,050 per month</td>\n",
       "      <td>3 bedroom(s), 2 bathroom(s)</td>\n",
       "      <td>Other</td>\n",
       "      <td>Active</td>\n",
       "      <td>NaN</td>\n",
       "      <td>566.56 m2</td>\n",
       "      <td>175.03 m2</td>\n",
       "      <td>Contemporary</td>\n",
       "      <td>Maricopa</td>\n",
       "      <td>Realty ONE Group</td>\n",
       "    </tr>\n",
       "    <tr>\n",
       "      <th>3996</th>\n",
       "      <td>USD $1,300 per month</td>\n",
       "      <td>2 bedroom(s), 1 bathroom(s)</td>\n",
       "      <td>Other</td>\n",
       "      <td>Active</td>\n",
       "      <td>NaN</td>\n",
       "      <td>930.78 m2</td>\n",
       "      <td>104.98 m2</td>\n",
       "      <td>Ranch</td>\n",
       "      <td>Maricopa</td>\n",
       "      <td>Real Living SJ Fowler Real Estate</td>\n",
       "    </tr>\n",
       "    <tr>\n",
       "      <th>3997</th>\n",
       "      <td>USD $3,499 per month</td>\n",
       "      <td>4 bedroom(s), 3 bathroom(s)</td>\n",
       "      <td>Other</td>\n",
       "      <td>Active</td>\n",
       "      <td>NaN</td>\n",
       "      <td>890.31 m2</td>\n",
       "      <td>345.79 m2</td>\n",
       "      <td>Contemporary</td>\n",
       "      <td>Maricopa</td>\n",
       "      <td>HomeSmart</td>\n",
       "    </tr>\n",
       "    <tr>\n",
       "      <th>3998</th>\n",
       "      <td>USD $10,900 per month</td>\n",
       "      <td>5 bedroom(s), 7 bathroom(s)</td>\n",
       "      <td>Other</td>\n",
       "      <td>Active</td>\n",
       "      <td>NaN</td>\n",
       "      <td>1,254.53 m2</td>\n",
       "      <td>653.94 m2</td>\n",
       "      <td>Other</td>\n",
       "      <td>Maricopa</td>\n",
       "      <td>Russ Lyon Sotheby's International Realty</td>\n",
       "    </tr>\n",
       "    <tr>\n",
       "      <th>3999</th>\n",
       "      <td>USD $2,300 per month</td>\n",
       "      <td>2 bedroom(s), 2 bathroom(s)</td>\n",
       "      <td>Other</td>\n",
       "      <td>Active</td>\n",
       "      <td>NaN</td>\n",
       "      <td>323.75 m2</td>\n",
       "      <td>115.85 m2</td>\n",
       "      <td>Contemporary</td>\n",
       "      <td>Maricopa</td>\n",
       "      <td>RE/MAX Alliance Group</td>\n",
       "    </tr>\n",
       "  </tbody>\n",
       "</table>\n",
       "<p>4000 rows × 10 columns</p>\n",
       "</div>"
      ],
      "text/plain": [
       "                      Price                                       Rooms  \\\n",
       "0      USD $2,200 per month                 3 bedroom(s), 2 bathroom(s)   \n",
       "1      USD $3,000 per month                 2 bedroom(s), 3 bathroom(s)   \n",
       "2      USD $1,195 per month                 1 bedroom(s), 1 bathroom(s)   \n",
       "3      USD $8,000 per month                 4 bedroom(s), 3 bathroom(s)   \n",
       "4      USD $5,600 per month  4 bedroom(s), 3 bathroom(s), 1 basement(s)   \n",
       "...                     ...                                         ...   \n",
       "3995   USD $2,050 per month                 3 bedroom(s), 2 bathroom(s)   \n",
       "3996   USD $1,300 per month                 2 bedroom(s), 1 bathroom(s)   \n",
       "3997   USD $3,499 per month                 4 bedroom(s), 3 bathroom(s)   \n",
       "3998  USD $10,900 per month                 5 bedroom(s), 7 bathroom(s)   \n",
       "3999   USD $2,300 per month                 2 bedroom(s), 2 bathroom(s)   \n",
       "\n",
       "           Type  Status  Parking Spaces    Land Size Building Size  \\\n",
       "0         House  Active             NaN          NaN     136.20 m2   \n",
       "1     Apartment  Active             NaN    161.87 m2     205.13 m2   \n",
       "2     Apartment  Active             NaN    768.90 m2           NaN   \n",
       "3     Townhouse  Active             NaN    728.43 m2     213.68 m2   \n",
       "4         House  Active             4.0    849.84 m2     266.72 m2   \n",
       "...         ...     ...             ...          ...           ...   \n",
       "3995      Other  Active             NaN    566.56 m2     175.03 m2   \n",
       "3996      Other  Active             NaN    930.78 m2     104.98 m2   \n",
       "3997      Other  Active             NaN    890.31 m2     345.79 m2   \n",
       "3998      Other  Active             NaN  1,254.53 m2     653.94 m2   \n",
       "3999      Other  Active             NaN    323.75 m2     115.85 m2   \n",
       "\n",
       "     Architecture Style        County  \\\n",
       "0                 Other        Mohave   \n",
       "1                 Other  PHILADELPHIA   \n",
       "2                 Other  PHILADELPHIA   \n",
       "3                 Other       Ventura   \n",
       "4              Colonial       FAIRFAX   \n",
       "...                 ...           ...   \n",
       "3995       Contemporary      Maricopa   \n",
       "3996              Ranch      Maricopa   \n",
       "3997       Contemporary      Maricopa   \n",
       "3998              Other      Maricopa   \n",
       "3999       Contemporary      Maricopa   \n",
       "\n",
       "                                      Provider  \n",
       "0            Black Mountain Valley Realty, Inc  \n",
       "1                                      Compass  \n",
       "2                                   OCF Realty  \n",
       "3                eXp Realty of California Inc.  \n",
       "4              Keller Williams Fairfax Gateway  \n",
       "...                                        ...  \n",
       "3995                          Realty ONE Group  \n",
       "3996         Real Living SJ Fowler Real Estate  \n",
       "3997                                 HomeSmart  \n",
       "3998  Russ Lyon Sotheby's International Realty  \n",
       "3999                     RE/MAX Alliance Group  \n",
       "\n",
       "[4000 rows x 10 columns]"
      ]
     },
     "execution_count": 220,
     "metadata": {},
     "output_type": "execute_result"
    }
   ],
   "source": [
    "df = pd.read_csv('../data/houses.csv')\n",
    "df"
   ]
  },
  {
   "cell_type": "markdown",
   "metadata": {},
   "source": [
    "## 1. Meaning of columns/rows\n",
    "Each row corresponds to a house with the following features:\n",
    "- **Price:** Monthly rental price of the property in USD.\n",
    "- **Rooms:** Number of bedrooms and bathrooms (may include basements).\n",
    "- **Type:** Type of property (e.g., House, Apartment, Townhouse, etc.).\n",
    "- **Status:** Current status of the property (e.g., \"Active\").\n",
    "- **Parking Spaces:** Number of parking spaces (can be empty if unknown).\n",
    "- **Land Size:** Size of the land (in $m^2$).\n",
    "- **Building Size:** Size of the building (in $m^2$).\n",
    "- **Architecture Style:** Style of the property’s architecture (e.g., Colonial, Contemporary, Other).\n",
    "- **County:** County in which the property is located.\n",
    "- **Provider:** Name of the real estate agency or company listing the property.\n"
   ]
  },
  {
   "cell_type": "markdown",
   "metadata": {},
   "source": [
    "##  2. Data conversion\n",
    "What is the current data type of each column? Are there columns having inappropriate data types?"
   ]
  },
  {
   "cell_type": "code",
   "execution_count": 221,
   "metadata": {},
   "outputs": [
    {
     "data": {
      "text/plain": [
       "Price                  object\n",
       "Rooms                  object\n",
       "Type                   object\n",
       "Status                 object\n",
       "Parking Spaces        float64\n",
       "Land Size              object\n",
       "Building Size          object\n",
       "Architecture Style     object\n",
       "County                 object\n",
       "Provider               object\n",
       "dtype: object"
      ]
     },
     "execution_count": 221,
     "metadata": {},
     "output_type": "execute_result"
    }
   ],
   "source": [
    "df.dtypes"
   ]
  },
  {
   "cell_type": "markdown",
   "metadata": {},
   "source": [
    "As we can see, there are some inappropriate type for some features.\n",
    "\n",
    "- First, `Price`, `Building Size` and `Land Size` are currently in string type, so we need to convert them to float."
   ]
  },
  {
   "cell_type": "code",
   "execution_count": 222,
   "metadata": {},
   "outputs": [],
   "source": [
    "for i in range(len(df['Price'])):\n",
    "    if df['Price'][i] != df['Price'][i]:\n",
    "        df['Price'] = df['Price'].apply(lambda x: float(x.split('$')[1].split(' ')[0].replace(',', '')) if isinstance(x, str) else x)"
   ]
  },
  {
   "cell_type": "code",
   "execution_count": 223,
   "metadata": {},
   "outputs": [],
   "source": [
    "for i in range(len(df['Building Size'])):\n",
    "    if df['Building Size'][i] != df['Building Size'][i]:\n",
    "        df['Building Size'] = df['Building Size'].apply(lambda x: float(x.split(' ')[0].replace(',', '')) if isinstance(x, str) else x)"
   ]
  },
  {
   "cell_type": "code",
   "execution_count": 224,
   "metadata": {},
   "outputs": [],
   "source": [
    "for i in range(len(df['Land Size'])):\n",
    "    if df['Land Size'][i] != df['Land Size'][i]:\n",
    "        df['Land Size'] = df['Land Size'].apply(lambda x: float(x.split(' ')[0].replace(',', '')) if isinstance(x, str) else x)"
   ]
  },
  {
   "cell_type": "markdown",
   "metadata": {},
   "source": [
    "- Then, `Rooms` has to be splitted into 3 columns namely `Bedrooms`, `Bathrooms`, `Livingrooms` and `Basements`"
   ]
  },
  {
   "cell_type": "code",
   "execution_count": 225,
   "metadata": {},
   "outputs": [],
   "source": [
    "bedrooms = df['Rooms'].apply(lambda x: int(re.search(r'(\\d+) bedroom\\(s\\)', x).group(1)) if isinstance(x, str) and re.search(r'(\\d+) bedroom\\(s\\)', x) else np.nan)\n",
    "bathrooms = df['Rooms'].apply(lambda x: int(re.search(r'(\\d+) bathroom\\(s\\)', x).group(1)) if isinstance(x, str) and re.search(r'(\\d+) bathroom\\(s\\)', x) else np.nan)\n",
    "livingrooms = df['Rooms'].apply(lambda x: int(re.search(r'(\\d+) livingroom\\(s\\)', x).group(1)) if isinstance(x, str) and re.search(r'(\\d+) livingroom\\(s\\)', x) else np.nan)\n",
    "basements = df['Rooms'].apply(lambda x: int(re.search(r'(\\d+) basement\\(s\\)', x).group(1)) if isinstance(x, str) and re.search(r'(\\d+) basement\\(s\\)', x) else np.nan)\n",
    "\n",
    "df['Bedrooms'] = bedrooms\n",
    "df['Bathrooms'] = bathrooms\n",
    "df['Livingrooms'] = livingrooms\n",
    "df['Basements'] = basements\n",
    "\n",
    "df = df.drop(columns=['Rooms'])"
   ]
  },
  {
   "cell_type": "code",
   "execution_count": 226,
   "metadata": {},
   "outputs": [
    {
     "data": {
      "text/plain": [
       "Price                 float64\n",
       "Type                   object\n",
       "Status                 object\n",
       "Parking Spaces        float64\n",
       "Land Size             float64\n",
       "Building Size         float64\n",
       "Architecture Style     object\n",
       "County                 object\n",
       "Provider               object\n",
       "Bedrooms              float64\n",
       "Bathrooms             float64\n",
       "Livingrooms           float64\n",
       "Basements             float64\n",
       "dtype: object"
      ]
     },
     "execution_count": 226,
     "metadata": {},
     "output_type": "execute_result"
    }
   ],
   "source": [
    "df.dtypes"
   ]
  },
  {
   "cell_type": "markdown",
   "metadata": {},
   "source": [
    "The data types seem normal."
   ]
  },
  {
   "cell_type": "markdown",
   "metadata": {},
   "source": [
    "# II. Data preprocessing\n",
    "## 1. Data cleaning\n",
    "### 1.1. Handle missing data"
   ]
  },
  {
   "cell_type": "markdown",
   "metadata": {},
   "source": [
    "Since `Price` column is the target, we will remove the records that misses `Price` value first."
   ]
  },
  {
   "cell_type": "code",
   "execution_count": 227,
   "metadata": {},
   "outputs": [],
   "source": [
    "df.dropna(subset=['Price'], inplace=True)"
   ]
  },
  {
   "cell_type": "markdown",
   "metadata": {},
   "source": [
    "We check each columns' missing ratio"
   ]
  },
  {
   "cell_type": "code",
   "execution_count": 228,
   "metadata": {},
   "outputs": [
    {
     "data": {
      "text/html": [
       "<div>\n",
       "<style scoped>\n",
       "    .dataframe tbody tr th:only-of-type {\n",
       "        vertical-align: middle;\n",
       "    }\n",
       "\n",
       "    .dataframe tbody tr th {\n",
       "        vertical-align: top;\n",
       "    }\n",
       "\n",
       "    .dataframe thead th {\n",
       "        text-align: right;\n",
       "    }\n",
       "</style>\n",
       "<table border=\"1\" class=\"dataframe\">\n",
       "  <thead>\n",
       "    <tr style=\"text-align: right;\">\n",
       "      <th></th>\n",
       "      <th>Total</th>\n",
       "      <th>Percentage</th>\n",
       "    </tr>\n",
       "  </thead>\n",
       "  <tbody>\n",
       "    <tr>\n",
       "      <th>Basements</th>\n",
       "      <td>3673</td>\n",
       "      <td>0.923328</td>\n",
       "    </tr>\n",
       "    <tr>\n",
       "      <th>Livingrooms</th>\n",
       "      <td>3418</td>\n",
       "      <td>0.859226</td>\n",
       "    </tr>\n",
       "    <tr>\n",
       "      <th>Parking Spaces</th>\n",
       "      <td>2768</td>\n",
       "      <td>0.695827</td>\n",
       "    </tr>\n",
       "    <tr>\n",
       "      <th>Land Size</th>\n",
       "      <td>1563</td>\n",
       "      <td>0.392911</td>\n",
       "    </tr>\n",
       "    <tr>\n",
       "      <th>Building Size</th>\n",
       "      <td>408</td>\n",
       "      <td>0.102564</td>\n",
       "    </tr>\n",
       "    <tr>\n",
       "      <th>Bedrooms</th>\n",
       "      <td>302</td>\n",
       "      <td>0.075918</td>\n",
       "    </tr>\n",
       "    <tr>\n",
       "      <th>Provider</th>\n",
       "      <td>215</td>\n",
       "      <td>0.054047</td>\n",
       "    </tr>\n",
       "    <tr>\n",
       "      <th>Bathrooms</th>\n",
       "      <td>204</td>\n",
       "      <td>0.051282</td>\n",
       "    </tr>\n",
       "    <tr>\n",
       "      <th>County</th>\n",
       "      <td>155</td>\n",
       "      <td>0.038964</td>\n",
       "    </tr>\n",
       "    <tr>\n",
       "      <th>Price</th>\n",
       "      <td>0</td>\n",
       "      <td>0.000000</td>\n",
       "    </tr>\n",
       "    <tr>\n",
       "      <th>Type</th>\n",
       "      <td>0</td>\n",
       "      <td>0.000000</td>\n",
       "    </tr>\n",
       "    <tr>\n",
       "      <th>Status</th>\n",
       "      <td>0</td>\n",
       "      <td>0.000000</td>\n",
       "    </tr>\n",
       "    <tr>\n",
       "      <th>Architecture Style</th>\n",
       "      <td>0</td>\n",
       "      <td>0.000000</td>\n",
       "    </tr>\n",
       "  </tbody>\n",
       "</table>\n",
       "</div>"
      ],
      "text/plain": [
       "                    Total  Percentage\n",
       "Basements            3673    0.923328\n",
       "Livingrooms          3418    0.859226\n",
       "Parking Spaces       2768    0.695827\n",
       "Land Size            1563    0.392911\n",
       "Building Size         408    0.102564\n",
       "Bedrooms              302    0.075918\n",
       "Provider              215    0.054047\n",
       "Bathrooms             204    0.051282\n",
       "County                155    0.038964\n",
       "Price                   0    0.000000\n",
       "Type                    0    0.000000\n",
       "Status                  0    0.000000\n",
       "Architecture Style      0    0.000000"
      ]
     },
     "execution_count": 228,
     "metadata": {},
     "output_type": "execute_result"
    },
    {
     "data": {
      "image/png": "[encoded data removed]",
      "text/plain": [
       "<Figure size 1200x600 with 1 Axes>"
      ]
     },
     "metadata": {},
     "output_type": "display_data"
    }
   ],
   "source": [
    "total = df.isna().sum().sort_values(ascending=False)\n",
    "percentage = (df.isna().sum()/df.isna().count()).sort_values(ascending=False)\n",
    "missing_data = pd.concat([total, percentage], axis=1, keys=['Total', 'Percentage'])\n",
    "\n",
    "f = plt.figure(figsize=(12, 6))\n",
    "sns.barplot(x=missing_data.index, y=missing_data['Percentage'], color='orange')\n",
    "plt.xlabel('Features')\n",
    "plt.ylabel('Percentage of missing values')\n",
    "plt.title('Percentage of missing data by feature')\n",
    "plt.xticks(rotation=45)\n",
    "\n",
    "missing_data"
   ]
  },
  {
   "cell_type": "markdown",
   "metadata": {},
   "source": [
    "As we can see, the percentages of missing values of `Parking Spaces`, `Livingrooms` and `Basements` are greater than 50%."
   ]
  },
  {
   "cell_type": "markdown",
   "metadata": {},
   "source": [
    "Since basements and parking spaces are not the basic rooms that one house should have, but living rooms, bathrooms and bedrooms are, so:\n",
    "- If missing values are in ```Parking Spaces``` and ```Basements```, we fill it by 0.\n",
    "- If missing values are in ```Livingrooms```, ```Bedrooms``` and ```Bathrooms``` , we fill by ```median``` for ```Bedrooms``` and ```Bathrooms``` because of their low missing rate. For ```Livingrooms```, we have to check its distribution first."
   ]
  },
  {
   "cell_type": "code",
   "execution_count": 229,
   "metadata": {},
   "outputs": [],
   "source": [
    "df['Parking Spaces'] = df['Parking Spaces'].fillna(0)\n",
    "df['Basements'] = df['Basements'].fillna(0)"
   ]
  },
  {
   "cell_type": "code",
   "execution_count": 230,
   "metadata": {},
   "outputs": [],
   "source": [
    "df['Bedrooms'] = df['Bedrooms'].fillna(df['Bedrooms'].median())\n",
    "df['Bathrooms'] = df['Bathrooms'].fillna(df['Bathrooms'].median())"
   ]
  },
  {
   "cell_type": "code",
   "execution_count": 231,
   "metadata": {},
   "outputs": [
    {
     "name": "stdout",
     "output_type": "stream",
     "text": [
      "Livingrooms\n",
      "NaN    3418\n",
      "1.0     549\n",
      "2.0      11\n",
      "Name: count, dtype: int64\n"
     ]
    }
   ],
   "source": [
    "print(df['Livingrooms'].value_counts(dropna=False))"
   ]
  },
  {
   "cell_type": "markdown",
   "metadata": {},
   "source": [
    "Most of ```Livingrooms``` values are 1 so we fill its missing values by 1."
   ]
  },
  {
   "cell_type": "code",
   "execution_count": 232,
   "metadata": {},
   "outputs": [],
   "source": [
    "df['Livingrooms'] = df['Livingrooms'].fillna(1)"
   ]
  },
  {
   "cell_type": "markdown",
   "metadata": {},
   "source": [
    "For the missing categorical columns, we fill them by ```mode```."
   ]
  },
  {
   "cell_type": "code",
   "execution_count": 233,
   "metadata": {},
   "outputs": [],
   "source": [
    "cates = ['Provider', 'County']\n",
    "for cate in cates:\n",
    "    df[cate] = df[cate].fillna(df[cate].mode()[0])"
   ]
  },
  {
   "cell_type": "markdown",
   "metadata": {},
   "source": [
    "After experimenting by all approriate methods to fill ```Building Size``` and ```Land Size```, we can only choose to fill it by ```median``` because the other columns are not related to them and the distributions of those columns are skewed (as shown in the plot below). "
   ]
  },
  {
   "cell_type": "code",
   "execution_count": 234,
   "metadata": {},
   "outputs": [
    {
     "data": {
      "image/png": "[encoded data removed]",
      "text/plain": [
       "<Figure size 1000x500 with 2 Axes>"
      ]
     },
     "metadata": {},
     "output_type": "display_data"
    }
   ],
   "source": [
    "fig, axes = plt.subplots(nrows=1, ncols=2,figsize=(10, 5))\n",
    "sns.histplot(x=df['Land Size'], ax=axes[0], kde=True, bins=20, color='blue')\n",
    "sns.histplot(x=df['Building Size'], ax=axes[1], kde=True, bins=20, color='orange')\n",
    "plt.tight_layout()\n",
    "plt.show()"
   ]
  },
  {
   "cell_type": "code",
   "execution_count": 235,
   "metadata": {},
   "outputs": [],
   "source": [
    "df['Building Size'] = df['Building Size'].fillna(df['Building Size'].median())\n",
    "df['Land Size'] = df['Land Size'].fillna(df['Land Size'].median())"
   ]
  },
  {
   "cell_type": "code",
   "execution_count": 236,
   "metadata": {},
   "outputs": [
    {
     "name": "stdout",
     "output_type": "stream",
     "text": [
      "<class 'pandas.core.frame.DataFrame'>\n",
      "Index: 3978 entries, 0 to 3999\n",
      "Data columns (total 13 columns):\n",
      " #   Column              Non-Null Count  Dtype  \n",
      "---  ------              --------------  -----  \n",
      " 0   Price               3978 non-null   float64\n",
      " 1   Type                3978 non-null   object \n",
      " 2   Status              3978 non-null   object \n",
      " 3   Parking Spaces      3978 non-null   float64\n",
      " 4   Land Size           3978 non-null   float64\n",
      " 5   Building Size       3978 non-null   float64\n",
      " 6   Architecture Style  3978 non-null   object \n",
      " 7   County              3978 non-null   object \n",
      " 8   Provider            3978 non-null   object \n",
      " 9   Bedrooms            3978 non-null   float64\n",
      " 10  Bathrooms           3978 non-null   float64\n",
      " 11  Livingrooms         3978 non-null   float64\n",
      " 12  Basements           3978 non-null   float64\n",
      "dtypes: float64(8), object(5)\n",
      "memory usage: 435.1+ KB\n"
     ]
    }
   ],
   "source": [
    "df.info()"
   ]
  },
  {
   "cell_type": "markdown",
   "metadata": {},
   "source": [
    "Finally, there is no more missing values."
   ]
  },
  {
   "cell_type": "markdown",
   "metadata": {},
   "source": [
    "### 1.2. Data Cleaning"
   ]
  },
  {
   "cell_type": "markdown",
   "metadata": {},
   "source": [
    "Column ```Status``` doesn't seem to have much meaningful information. We first check its values."
   ]
  },
  {
   "cell_type": "code",
   "execution_count": 237,
   "metadata": {},
   "outputs": [
    {
     "name": "stdout",
     "output_type": "stream",
     "text": [
      "Status\n",
      "Active     3966\n",
      "Pending      12\n",
      "Name: count, dtype: int64\n"
     ]
    }
   ],
   "source": [
    "print(df['Status'].value_counts(dropna=False))"
   ]
  },
  {
   "cell_type": "markdown",
   "metadata": {},
   "source": [
    "There are 12 records that are ```Pending```. Since we just need currently available records, the row that has ```Pending``` status should be eliminated, and the column ```Status``` should be removed after that."
   ]
  },
  {
   "cell_type": "code",
   "execution_count": 238,
   "metadata": {},
   "outputs": [],
   "source": [
    "df = df[df['Status'] != 'Pending']\n",
    "df = df.drop(columns=['Status'])"
   ]
  },
  {
   "cell_type": "markdown",
   "metadata": {},
   "source": [
    "Column ```Provider``` is not helpful also since it has so many distinct categorical values and hard to preprocess, so it should be eliminated also."
   ]
  },
  {
   "cell_type": "code",
   "execution_count": 239,
   "metadata": {},
   "outputs": [],
   "source": [
    "df = df.drop(columns=['Provider'])"
   ]
  },
  {
   "cell_type": "markdown",
   "metadata": {},
   "source": [
    "Column ```County``` stores the county of US where house record locates at. But for simplicity and avoiding high-dimensionality, we convert county into state to reduce the distinct values. We do it with ```uscounties.csv``` dataset, which is retrieved at [simplemaps](https://simplemaps.com/data/us-counties) website, helps to match county with state using ```fuzzymatching```."
   ]
  },
  {
   "cell_type": "markdown",
   "metadata": {},
   "source": [
    "Read counties data"
   ]
  },
  {
   "cell_type": "code",
   "execution_count": 240,
   "metadata": {},
   "outputs": [],
   "source": [
    "counties_df = pd.read_csv('../data/uscounties.csv')"
   ]
  },
  {
   "cell_type": "markdown",
   "metadata": {},
   "source": [
    "Clean text in ```County``` column for easily matching"
   ]
  },
  {
   "cell_type": "code",
   "execution_count": 241,
   "metadata": {},
   "outputs": [],
   "source": [
    "def clean_name(name):\n",
    "    if pd.isna(name):\n",
    "        return ''\n",
    "    name = name.lower().strip()\n",
    "    name = name.replace(' county', '').replace(' co.', '').replace('parish', '').replace('.', '')\n",
    "    name = ' '.join(name.split())\n",
    "    return name\n",
    "\n",
    "df['County'] = df['County'].apply(clean_name)"
   ]
  },
  {
   "cell_type": "markdown",
   "metadata": {},
   "source": [
    "Match county with state and create ```State``` column"
   ]
  },
  {
   "cell_type": "code",
   "execution_count": 242,
   "metadata": {},
   "outputs": [],
   "source": [
    "county_list = counties_df['county'].tolist()\n",
    "\n",
    "def match_county(county_name, county_list):\n",
    "    match = process.extractOne(county_name, county_list, score_cutoff=70)  \n",
    "    if match:\n",
    "        matched_county = match[0]\n",
    "        state_name = counties_df[counties_df['county'] == matched_county]['state_name'].values[0]\n",
    "        return state_name\n",
    "    else:\n",
    "        return 'Other'\n",
    "\n",
    "df['State'] = df['County'].apply(lambda x: match_county(x, county_list))"
   ]
  },
  {
   "cell_type": "markdown",
   "metadata": {},
   "source": [
    "Drop ```County``` column"
   ]
  },
  {
   "cell_type": "code",
   "execution_count": 243,
   "metadata": {},
   "outputs": [],
   "source": [
    "df = df.drop(columns=['County'])"
   ]
  },
  {
   "cell_type": "markdown",
   "metadata": {},
   "source": [
    "### 1.3. Handle Duplicate Rows\n",
    "Is there any duplicated rows (same features)? If yes, remove those rows."
   ]
  },
  {
   "cell_type": "code",
   "execution_count": 244,
   "metadata": {},
   "outputs": [
    {
     "data": {
      "text/plain": [
       "316"
      ]
     },
     "execution_count": 244,
     "metadata": {},
     "output_type": "execute_result"
    }
   ],
   "source": [
    "df.duplicated(df.columns.difference(['Price'])).sum()"
   ]
  },
  {
   "cell_type": "markdown",
   "metadata": {},
   "source": [
    "There are duplicated records"
   ]
  },
  {
   "cell_type": "markdown",
   "metadata": {},
   "source": [
    "Remove duplicates"
   ]
  },
  {
   "cell_type": "code",
   "execution_count": 245,
   "metadata": {},
   "outputs": [],
   "source": [
    "df.drop_duplicates(df.columns.difference(['Price']), keep='first', inplace=True)\n",
    "df.reset_index(drop=True, inplace=True)"
   ]
  },
  {
   "cell_type": "markdown",
   "metadata": {},
   "source": [
    "Extract data without encoding categorical columns."
   ]
  },
  {
   "cell_type": "code",
   "execution_count": 246,
   "metadata": {},
   "outputs": [],
   "source": [
    "df.to_csv('../data/houses_preprocessed.csv', index=False)"
   ]
  },
  {
   "cell_type": "markdown",
   "metadata": {},
   "source": [
    "## 2. Encode categorical columns"
   ]
  },
  {
   "cell_type": "markdown",
   "metadata": {},
   "source": [
    "We use ```One-hot encoding``` for categorical columns"
   ]
  },
  {
   "cell_type": "code",
   "execution_count": 247,
   "metadata": {},
   "outputs": [],
   "source": [
    "cates = ['State', 'Architecture Style', 'Type']\n",
    "df = pd.get_dummies(df, columns=cates, dtype=int)"
   ]
  },
  {
   "cell_type": "code",
   "execution_count": 248,
   "metadata": {},
   "outputs": [
    {
     "data": {
      "text/html": [
       "<div>\n",
       "<style scoped>\n",
       "    .dataframe tbody tr th:only-of-type {\n",
       "        vertical-align: middle;\n",
       "    }\n",
       "\n",
       "    .dataframe tbody tr th {\n",
       "        vertical-align: top;\n",
       "    }\n",
       "\n",
       "    .dataframe thead th {\n",
       "        text-align: right;\n",
       "    }\n",
       "</style>\n",
       "<table border=\"1\" class=\"dataframe\">\n",
       "  <thead>\n",
       "    <tr style=\"text-align: right;\">\n",
       "      <th></th>\n",
       "      <th>Price</th>\n",
       "      <th>Parking Spaces</th>\n",
       "      <th>Land Size</th>\n",
       "      <th>Building Size</th>\n",
       "      <th>Bedrooms</th>\n",
       "      <th>Bathrooms</th>\n",
       "      <th>Livingrooms</th>\n",
       "      <th>Basements</th>\n",
       "      <th>State_Alabama</th>\n",
       "      <th>State_Alaska</th>\n",
       "      <th>...</th>\n",
       "      <th>Architecture Style_Split Level</th>\n",
       "      <th>Architecture Style_Stick</th>\n",
       "      <th>Architecture Style_Tudor</th>\n",
       "      <th>Architecture Style_Victorian</th>\n",
       "      <th>Type_Apartment</th>\n",
       "      <th>Type_House</th>\n",
       "      <th>Type_Multi family</th>\n",
       "      <th>Type_Other</th>\n",
       "      <th>Type_Rural</th>\n",
       "      <th>Type_Townhouse</th>\n",
       "    </tr>\n",
       "  </thead>\n",
       "  <tbody>\n",
       "    <tr>\n",
       "      <th>0</th>\n",
       "      <td>2200.0</td>\n",
       "      <td>0.0</td>\n",
       "      <td>668.44</td>\n",
       "      <td>136.20</td>\n",
       "      <td>3.0</td>\n",
       "      <td>2.0</td>\n",
       "      <td>1.0</td>\n",
       "      <td>0.0</td>\n",
       "      <td>0</td>\n",
       "      <td>0</td>\n",
       "      <td>...</td>\n",
       "      <td>0</td>\n",
       "      <td>0</td>\n",
       "      <td>0</td>\n",
       "      <td>0</td>\n",
       "      <td>0</td>\n",
       "      <td>1</td>\n",
       "      <td>0</td>\n",
       "      <td>0</td>\n",
       "      <td>0</td>\n",
       "      <td>0</td>\n",
       "    </tr>\n",
       "    <tr>\n",
       "      <th>1</th>\n",
       "      <td>3000.0</td>\n",
       "      <td>0.0</td>\n",
       "      <td>161.87</td>\n",
       "      <td>205.13</td>\n",
       "      <td>2.0</td>\n",
       "      <td>3.0</td>\n",
       "      <td>1.0</td>\n",
       "      <td>0.0</td>\n",
       "      <td>0</td>\n",
       "      <td>0</td>\n",
       "      <td>...</td>\n",
       "      <td>0</td>\n",
       "      <td>0</td>\n",
       "      <td>0</td>\n",
       "      <td>0</td>\n",
       "      <td>1</td>\n",
       "      <td>0</td>\n",
       "      <td>0</td>\n",
       "      <td>0</td>\n",
       "      <td>0</td>\n",
       "      <td>0</td>\n",
       "    </tr>\n",
       "    <tr>\n",
       "      <th>2</th>\n",
       "      <td>1195.0</td>\n",
       "      <td>0.0</td>\n",
       "      <td>768.90</td>\n",
       "      <td>133.04</td>\n",
       "      <td>1.0</td>\n",
       "      <td>1.0</td>\n",
       "      <td>1.0</td>\n",
       "      <td>0.0</td>\n",
       "      <td>0</td>\n",
       "      <td>0</td>\n",
       "      <td>...</td>\n",
       "      <td>0</td>\n",
       "      <td>0</td>\n",
       "      <td>0</td>\n",
       "      <td>0</td>\n",
       "      <td>1</td>\n",
       "      <td>0</td>\n",
       "      <td>0</td>\n",
       "      <td>0</td>\n",
       "      <td>0</td>\n",
       "      <td>0</td>\n",
       "    </tr>\n",
       "    <tr>\n",
       "      <th>3</th>\n",
       "      <td>8000.0</td>\n",
       "      <td>0.0</td>\n",
       "      <td>728.43</td>\n",
       "      <td>213.68</td>\n",
       "      <td>4.0</td>\n",
       "      <td>3.0</td>\n",
       "      <td>1.0</td>\n",
       "      <td>0.0</td>\n",
       "      <td>0</td>\n",
       "      <td>0</td>\n",
       "      <td>...</td>\n",
       "      <td>0</td>\n",
       "      <td>0</td>\n",
       "      <td>0</td>\n",
       "      <td>0</td>\n",
       "      <td>0</td>\n",
       "      <td>0</td>\n",
       "      <td>0</td>\n",
       "      <td>0</td>\n",
       "      <td>0</td>\n",
       "      <td>1</td>\n",
       "    </tr>\n",
       "    <tr>\n",
       "      <th>4</th>\n",
       "      <td>5600.0</td>\n",
       "      <td>4.0</td>\n",
       "      <td>849.84</td>\n",
       "      <td>266.72</td>\n",
       "      <td>4.0</td>\n",
       "      <td>3.0</td>\n",
       "      <td>1.0</td>\n",
       "      <td>1.0</td>\n",
       "      <td>0</td>\n",
       "      <td>0</td>\n",
       "      <td>...</td>\n",
       "      <td>0</td>\n",
       "      <td>0</td>\n",
       "      <td>0</td>\n",
       "      <td>0</td>\n",
       "      <td>0</td>\n",
       "      <td>1</td>\n",
       "      <td>0</td>\n",
       "      <td>0</td>\n",
       "      <td>0</td>\n",
       "      <td>0</td>\n",
       "    </tr>\n",
       "    <tr>\n",
       "      <th>...</th>\n",
       "      <td>...</td>\n",
       "      <td>...</td>\n",
       "      <td>...</td>\n",
       "      <td>...</td>\n",
       "      <td>...</td>\n",
       "      <td>...</td>\n",
       "      <td>...</td>\n",
       "      <td>...</td>\n",
       "      <td>...</td>\n",
       "      <td>...</td>\n",
       "      <td>...</td>\n",
       "      <td>...</td>\n",
       "      <td>...</td>\n",
       "      <td>...</td>\n",
       "      <td>...</td>\n",
       "      <td>...</td>\n",
       "      <td>...</td>\n",
       "      <td>...</td>\n",
       "      <td>...</td>\n",
       "      <td>...</td>\n",
       "      <td>...</td>\n",
       "    </tr>\n",
       "    <tr>\n",
       "      <th>3645</th>\n",
       "      <td>2050.0</td>\n",
       "      <td>0.0</td>\n",
       "      <td>566.56</td>\n",
       "      <td>175.03</td>\n",
       "      <td>3.0</td>\n",
       "      <td>2.0</td>\n",
       "      <td>1.0</td>\n",
       "      <td>0.0</td>\n",
       "      <td>0</td>\n",
       "      <td>0</td>\n",
       "      <td>...</td>\n",
       "      <td>0</td>\n",
       "      <td>0</td>\n",
       "      <td>0</td>\n",
       "      <td>0</td>\n",
       "      <td>0</td>\n",
       "      <td>0</td>\n",
       "      <td>0</td>\n",
       "      <td>1</td>\n",
       "      <td>0</td>\n",
       "      <td>0</td>\n",
       "    </tr>\n",
       "    <tr>\n",
       "      <th>3646</th>\n",
       "      <td>1300.0</td>\n",
       "      <td>0.0</td>\n",
       "      <td>930.78</td>\n",
       "      <td>104.98</td>\n",
       "      <td>2.0</td>\n",
       "      <td>1.0</td>\n",
       "      <td>1.0</td>\n",
       "      <td>0.0</td>\n",
       "      <td>0</td>\n",
       "      <td>0</td>\n",
       "      <td>...</td>\n",
       "      <td>0</td>\n",
       "      <td>0</td>\n",
       "      <td>0</td>\n",
       "      <td>0</td>\n",
       "      <td>0</td>\n",
       "      <td>0</td>\n",
       "      <td>0</td>\n",
       "      <td>1</td>\n",
       "      <td>0</td>\n",
       "      <td>0</td>\n",
       "    </tr>\n",
       "    <tr>\n",
       "      <th>3647</th>\n",
       "      <td>3499.0</td>\n",
       "      <td>0.0</td>\n",
       "      <td>890.31</td>\n",
       "      <td>345.79</td>\n",
       "      <td>4.0</td>\n",
       "      <td>3.0</td>\n",
       "      <td>1.0</td>\n",
       "      <td>0.0</td>\n",
       "      <td>0</td>\n",
       "      <td>0</td>\n",
       "      <td>...</td>\n",
       "      <td>0</td>\n",
       "      <td>0</td>\n",
       "      <td>0</td>\n",
       "      <td>0</td>\n",
       "      <td>0</td>\n",
       "      <td>0</td>\n",
       "      <td>0</td>\n",
       "      <td>1</td>\n",
       "      <td>0</td>\n",
       "      <td>0</td>\n",
       "    </tr>\n",
       "    <tr>\n",
       "      <th>3648</th>\n",
       "      <td>10900.0</td>\n",
       "      <td>0.0</td>\n",
       "      <td>1254.53</td>\n",
       "      <td>653.94</td>\n",
       "      <td>5.0</td>\n",
       "      <td>7.0</td>\n",
       "      <td>1.0</td>\n",
       "      <td>0.0</td>\n",
       "      <td>0</td>\n",
       "      <td>0</td>\n",
       "      <td>...</td>\n",
       "      <td>0</td>\n",
       "      <td>0</td>\n",
       "      <td>0</td>\n",
       "      <td>0</td>\n",
       "      <td>0</td>\n",
       "      <td>0</td>\n",
       "      <td>0</td>\n",
       "      <td>1</td>\n",
       "      <td>0</td>\n",
       "      <td>0</td>\n",
       "    </tr>\n",
       "    <tr>\n",
       "      <th>3649</th>\n",
       "      <td>2300.0</td>\n",
       "      <td>0.0</td>\n",
       "      <td>323.75</td>\n",
       "      <td>115.85</td>\n",
       "      <td>2.0</td>\n",
       "      <td>2.0</td>\n",
       "      <td>1.0</td>\n",
       "      <td>0.0</td>\n",
       "      <td>0</td>\n",
       "      <td>0</td>\n",
       "      <td>...</td>\n",
       "      <td>0</td>\n",
       "      <td>0</td>\n",
       "      <td>0</td>\n",
       "      <td>0</td>\n",
       "      <td>0</td>\n",
       "      <td>0</td>\n",
       "      <td>0</td>\n",
       "      <td>1</td>\n",
       "      <td>0</td>\n",
       "      <td>0</td>\n",
       "    </tr>\n",
       "  </tbody>\n",
       "</table>\n",
       "<p>3650 rows × 85 columns</p>\n",
       "</div>"
      ],
      "text/plain": [
       "        Price  Parking Spaces  Land Size  Building Size  Bedrooms  Bathrooms  \\\n",
       "0      2200.0             0.0     668.44         136.20       3.0        2.0   \n",
       "1      3000.0             0.0     161.87         205.13       2.0        3.0   \n",
       "2      1195.0             0.0     768.90         133.04       1.0        1.0   \n",
       "3      8000.0             0.0     728.43         213.68       4.0        3.0   \n",
       "4      5600.0             4.0     849.84         266.72       4.0        3.0   \n",
       "...       ...             ...        ...            ...       ...        ...   \n",
       "3645   2050.0             0.0     566.56         175.03       3.0        2.0   \n",
       "3646   1300.0             0.0     930.78         104.98       2.0        1.0   \n",
       "3647   3499.0             0.0     890.31         345.79       4.0        3.0   \n",
       "3648  10900.0             0.0    1254.53         653.94       5.0        7.0   \n",
       "3649   2300.0             0.0     323.75         115.85       2.0        2.0   \n",
       "\n",
       "      Livingrooms  Basements  State_Alabama  State_Alaska  ...  \\\n",
       "0             1.0        0.0              0             0  ...   \n",
       "1             1.0        0.0              0             0  ...   \n",
       "2             1.0        0.0              0             0  ...   \n",
       "3             1.0        0.0              0             0  ...   \n",
       "4             1.0        1.0              0             0  ...   \n",
       "...           ...        ...            ...           ...  ...   \n",
       "3645          1.0        0.0              0             0  ...   \n",
       "3646          1.0        0.0              0             0  ...   \n",
       "3647          1.0        0.0              0             0  ...   \n",
       "3648          1.0        0.0              0             0  ...   \n",
       "3649          1.0        0.0              0             0  ...   \n",
       "\n",
       "      Architecture Style_Split Level  Architecture Style_Stick  \\\n",
       "0                                  0                         0   \n",
       "1                                  0                         0   \n",
       "2                                  0                         0   \n",
       "3                                  0                         0   \n",
       "4                                  0                         0   \n",
       "...                              ...                       ...   \n",
       "3645                               0                         0   \n",
       "3646                               0                         0   \n",
       "3647                               0                         0   \n",
       "3648                               0                         0   \n",
       "3649                               0                         0   \n",
       "\n",
       "      Architecture Style_Tudor  Architecture Style_Victorian  Type_Apartment  \\\n",
       "0                            0                             0               0   \n",
       "1                            0                             0               1   \n",
       "2                            0                             0               1   \n",
       "3                            0                             0               0   \n",
       "4                            0                             0               0   \n",
       "...                        ...                           ...             ...   \n",
       "3645                         0                             0               0   \n",
       "3646                         0                             0               0   \n",
       "3647                         0                             0               0   \n",
       "3648                         0                             0               0   \n",
       "3649                         0                             0               0   \n",
       "\n",
       "      Type_House  Type_Multi family  Type_Other  Type_Rural  Type_Townhouse  \n",
       "0              1                  0           0           0               0  \n",
       "1              0                  0           0           0               0  \n",
       "2              0                  0           0           0               0  \n",
       "3              0                  0           0           0               1  \n",
       "4              1                  0           0           0               0  \n",
       "...          ...                ...         ...         ...             ...  \n",
       "3645           0                  0           1           0               0  \n",
       "3646           0                  0           1           0               0  \n",
       "3647           0                  0           1           0               0  \n",
       "3648           0                  0           1           0               0  \n",
       "3649           0                  0           1           0               0  \n",
       "\n",
       "[3650 rows x 85 columns]"
      ]
     },
     "execution_count": 248,
     "metadata": {},
     "output_type": "execute_result"
    }
   ],
   "source": [
    "df"
   ]
  },
  {
   "cell_type": "markdown",
   "metadata": {},
   "source": [
    "Encoded dataset"
   ]
  },
  {
   "cell_type": "code",
   "execution_count": 249,
   "metadata": {},
   "outputs": [],
   "source": [
    "df.to_csv('../data/houses_encoded.csv', index=False)"
   ]
  }
 ],
 "metadata": {
  "kernelspec": {
   "display_name": "Python 3",
   "language": "python",
   "name": "python3"
  },
  "language_info": {
   "codemirror_mode": {
    "name": "ipython",
    "version": 3
   },
   "file_extension": ".py",
   "mimetype": "text/x-python",
   "name": "python",
   "nbconvert_exporter": "python",
   "pygments_lexer": "ipython3",
   "version": "3.11.9"
  }
 },
 "nbformat": 4,
 "nbformat_minor": 2
}
