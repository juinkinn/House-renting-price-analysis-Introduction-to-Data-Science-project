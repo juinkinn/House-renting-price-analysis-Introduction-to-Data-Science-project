{
 "cells": [
  {
   "cell_type": "markdown",
   "metadata": {},
   "source": [
    "# Final Project - Introduction to Data Science"
   ]
  },
  {
   "cell_type": "markdown",
   "metadata": {},
   "source": [
    "**Team members:**\n",
    "\n",
    "1. Nguyễn Hoàng Trung Kiên (Leader) - 22127478\n",
    "\n",
    "2. Quách Trần Quán Vinh - 22127460\n",
    "\n",
    "3. Ngô Hải Bằng - 22127460"
   ]
  },
  {
   "cell_type": "markdown",
   "metadata": {},
   "source": [
    "## Reflection"
   ]
  },
  {
   "cell_type": "markdown",
   "metadata": {},
   "source": [
    "### 1. Difficulties\n",
    "**1. Nguyễn Hoàng Trung Kiên**\n",
    "- In the preprocessing step, to handle missing values, it was hard to decide which methods of filling were suitable. The numerical columns didn't have normal distribution (mostly heavily left-skewed due to outliers).\n",
    "- Normalizing data was also challenging due to the wide ranges of the numerical columns, if not handled carefully, it might lead to poor modeling performance.\n",
    "\n",
    "**2. Quách Trần Quán Vinh**\n",
    "- The performance of the models seems not to be precise due to the lack of data volume.\n",
    "\n",
    "**3. Ngô Hải Bằng**\n",
    "- The limited number of columns makes it difficult to derive questions and analysis."
   ]
  },
  {
   "cell_type": "markdown",
   "metadata": {},
   "source": [
    "### 2. What have you learned?\n",
    "**1. Nguyễn Hoàng Trung Kiên**\n",
    "- Basic data science fundamentals.\n",
    "- Basic preprocessing steps including handle missing values, duplicates, features selection and normalization.\n",
    "- Make useful analysis from the data.\n",
    "\n",
    "**2. Quách Trần Quán Vinh**\n",
    "- A data science process.\n",
    "- How to handle invalid data and perform modeling to predict the results.\n",
    "\n",
    "**3. Ngô Hải Bằng**\n",
    "- How data science process works.\n",
    "- What to be explored in a dataset.\n",
    "- Make meaningful questions from the data."
   ]
  },
  {
   "cell_type": "markdown",
   "metadata": {},
   "source": [
    "### 3. What would you do if you have more time?\n",
    "\n",
    "- Crawl and examine datasets more carefully, ensuring both quantity and quality.\n",
    "- Discover more potential insights and interesting points of the datasets, make more questions for analyzing helpful information.\n",
    "- Experience on more modeling methods.\n",
    "- Spend more time on preprocessing steps to find which methods are suitable for the dataset."
   ]
  }
 ],
 "metadata": {
  "language_info": {
   "name": "python"
  }
 },
 "nbformat": 4,
 "nbformat_minor": 2
}
