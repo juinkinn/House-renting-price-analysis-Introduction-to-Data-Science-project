{
 "cells": [
  {
   "cell_type": "markdown",
   "metadata": {},
   "source": [
    "# Final Project - Introduction to Data Science"
   ]
  },
  {
   "cell_type": "markdown",
   "metadata": {},
   "source": [
    "**Team members:**\n",
    "\n",
    "1. Nguyễn Hoàng Trung Kiên (Leader) - 22127478\n",
    "\n",
    "2. Quách Trần Quán Vinh - 22127460\n",
    "\n",
    "3. Ngô Hải Bằng - 22127460"
   ]
  },
  {
   "cell_type": "markdown",
   "metadata": {},
   "source": [
    "### Import libraries"
   ]
  },
  {
   "cell_type": "code",
   "execution_count": 122,
   "metadata": {},
   "outputs": [],
   "source": [
    "import pandas as pd\n",
    "import matplotlib.pyplot as plt\n",
    "import numpy as np\n",
    "import seaborn as sns"
   ]
  },
  {
   "cell_type": "markdown",
   "metadata": {},
   "source": [
    "### Import dataset"
   ]
  },
  {
   "cell_type": "code",
   "execution_count": 123,
   "metadata": {},
   "outputs": [
    {
     "data": {
      "text/html": [
       "<div>\n",
       "<style scoped>\n",
       "    .dataframe tbody tr th:only-of-type {\n",
       "        vertical-align: middle;\n",
       "    }\n",
       "\n",
       "    .dataframe tbody tr th {\n",
       "        vertical-align: top;\n",
       "    }\n",
       "\n",
       "    .dataframe thead th {\n",
       "        text-align: right;\n",
       "    }\n",
       "</style>\n",
       "<table border=\"1\" class=\"dataframe\">\n",
       "  <thead>\n",
       "    <tr style=\"text-align: right;\">\n",
       "      <th></th>\n",
       "      <th>Price</th>\n",
       "      <th>Type</th>\n",
       "      <th>Status</th>\n",
       "      <th>Land Size</th>\n",
       "      <th>Building Size</th>\n",
       "      <th>Architecture Style</th>\n",
       "      <th>County</th>\n",
       "      <th>Provider</th>\n",
       "      <th>Bedrooms</th>\n",
       "      <th>Bathrooms</th>\n",
       "    </tr>\n",
       "  </thead>\n",
       "  <tbody>\n",
       "    <tr>\n",
       "      <th>0</th>\n",
       "      <td>2200.0</td>\n",
       "      <td>House</td>\n",
       "      <td>Active</td>\n",
       "      <td>668.44</td>\n",
       "      <td>136.20</td>\n",
       "      <td>Other</td>\n",
       "      <td>Mohave</td>\n",
       "      <td>Black Mountain Valley Realty, Inc</td>\n",
       "      <td>3.0</td>\n",
       "      <td>2.0</td>\n",
       "    </tr>\n",
       "    <tr>\n",
       "      <th>1</th>\n",
       "      <td>3000.0</td>\n",
       "      <td>Apartment</td>\n",
       "      <td>Active</td>\n",
       "      <td>161.87</td>\n",
       "      <td>205.13</td>\n",
       "      <td>Other</td>\n",
       "      <td>PHILADELPHIA</td>\n",
       "      <td>Compass</td>\n",
       "      <td>2.0</td>\n",
       "      <td>3.0</td>\n",
       "    </tr>\n",
       "    <tr>\n",
       "      <th>2</th>\n",
       "      <td>1195.0</td>\n",
       "      <td>Apartment</td>\n",
       "      <td>Active</td>\n",
       "      <td>768.90</td>\n",
       "      <td>133.04</td>\n",
       "      <td>Other</td>\n",
       "      <td>PHILADELPHIA</td>\n",
       "      <td>OCF Realty</td>\n",
       "      <td>1.0</td>\n",
       "      <td>1.0</td>\n",
       "    </tr>\n",
       "    <tr>\n",
       "      <th>3</th>\n",
       "      <td>8000.0</td>\n",
       "      <td>Townhouse</td>\n",
       "      <td>Active</td>\n",
       "      <td>728.43</td>\n",
       "      <td>213.68</td>\n",
       "      <td>Other</td>\n",
       "      <td>Ventura</td>\n",
       "      <td>eXp Realty of California Inc.</td>\n",
       "      <td>4.0</td>\n",
       "      <td>3.0</td>\n",
       "    </tr>\n",
       "    <tr>\n",
       "      <th>4</th>\n",
       "      <td>5600.0</td>\n",
       "      <td>House</td>\n",
       "      <td>Active</td>\n",
       "      <td>849.84</td>\n",
       "      <td>266.72</td>\n",
       "      <td>Colonial</td>\n",
       "      <td>FAIRFAX</td>\n",
       "      <td>Keller Williams Fairfax Gateway</td>\n",
       "      <td>4.0</td>\n",
       "      <td>3.0</td>\n",
       "    </tr>\n",
       "    <tr>\n",
       "      <th>...</th>\n",
       "      <td>...</td>\n",
       "      <td>...</td>\n",
       "      <td>...</td>\n",
       "      <td>...</td>\n",
       "      <td>...</td>\n",
       "      <td>...</td>\n",
       "      <td>...</td>\n",
       "      <td>...</td>\n",
       "      <td>...</td>\n",
       "      <td>...</td>\n",
       "    </tr>\n",
       "    <tr>\n",
       "      <th>3767</th>\n",
       "      <td>2050.0</td>\n",
       "      <td>Other</td>\n",
       "      <td>Active</td>\n",
       "      <td>566.56</td>\n",
       "      <td>175.03</td>\n",
       "      <td>Contemporary</td>\n",
       "      <td>Maricopa</td>\n",
       "      <td>Realty ONE Group</td>\n",
       "      <td>3.0</td>\n",
       "      <td>2.0</td>\n",
       "    </tr>\n",
       "    <tr>\n",
       "      <th>3768</th>\n",
       "      <td>1300.0</td>\n",
       "      <td>Other</td>\n",
       "      <td>Active</td>\n",
       "      <td>930.78</td>\n",
       "      <td>104.98</td>\n",
       "      <td>Ranch</td>\n",
       "      <td>Maricopa</td>\n",
       "      <td>Real Living SJ Fowler Real Estate</td>\n",
       "      <td>2.0</td>\n",
       "      <td>1.0</td>\n",
       "    </tr>\n",
       "    <tr>\n",
       "      <th>3769</th>\n",
       "      <td>3499.0</td>\n",
       "      <td>Other</td>\n",
       "      <td>Active</td>\n",
       "      <td>890.31</td>\n",
       "      <td>345.79</td>\n",
       "      <td>Contemporary</td>\n",
       "      <td>Maricopa</td>\n",
       "      <td>HomeSmart</td>\n",
       "      <td>4.0</td>\n",
       "      <td>3.0</td>\n",
       "    </tr>\n",
       "    <tr>\n",
       "      <th>3770</th>\n",
       "      <td>10900.0</td>\n",
       "      <td>Other</td>\n",
       "      <td>Active</td>\n",
       "      <td>1254.53</td>\n",
       "      <td>653.94</td>\n",
       "      <td>Other</td>\n",
       "      <td>Maricopa</td>\n",
       "      <td>Russ Lyon Sotheby's International Realty</td>\n",
       "      <td>5.0</td>\n",
       "      <td>7.0</td>\n",
       "    </tr>\n",
       "    <tr>\n",
       "      <th>3771</th>\n",
       "      <td>2300.0</td>\n",
       "      <td>Other</td>\n",
       "      <td>Active</td>\n",
       "      <td>323.75</td>\n",
       "      <td>115.85</td>\n",
       "      <td>Contemporary</td>\n",
       "      <td>Maricopa</td>\n",
       "      <td>RE/MAX Alliance Group</td>\n",
       "      <td>2.0</td>\n",
       "      <td>2.0</td>\n",
       "    </tr>\n",
       "  </tbody>\n",
       "</table>\n",
       "<p>3772 rows × 10 columns</p>\n",
       "</div>"
      ],
      "text/plain": [
       "        Price       Type  Status  Land Size  Building Size Architecture Style  \\\n",
       "0      2200.0      House  Active     668.44         136.20              Other   \n",
       "1      3000.0  Apartment  Active     161.87         205.13              Other   \n",
       "2      1195.0  Apartment  Active     768.90         133.04              Other   \n",
       "3      8000.0  Townhouse  Active     728.43         213.68              Other   \n",
       "4      5600.0      House  Active     849.84         266.72           Colonial   \n",
       "...       ...        ...     ...        ...            ...                ...   \n",
       "3767   2050.0      Other  Active     566.56         175.03       Contemporary   \n",
       "3768   1300.0      Other  Active     930.78         104.98              Ranch   \n",
       "3769   3499.0      Other  Active     890.31         345.79       Contemporary   \n",
       "3770  10900.0      Other  Active    1254.53         653.94              Other   \n",
       "3771   2300.0      Other  Active     323.75         115.85       Contemporary   \n",
       "\n",
       "            County                                  Provider  Bedrooms  \\\n",
       "0           Mohave         Black Mountain Valley Realty, Inc       3.0   \n",
       "1     PHILADELPHIA                                   Compass       2.0   \n",
       "2     PHILADELPHIA                                OCF Realty       1.0   \n",
       "3          Ventura             eXp Realty of California Inc.       4.0   \n",
       "4          FAIRFAX           Keller Williams Fairfax Gateway       4.0   \n",
       "...            ...                                       ...       ...   \n",
       "3767      Maricopa                          Realty ONE Group       3.0   \n",
       "3768      Maricopa         Real Living SJ Fowler Real Estate       2.0   \n",
       "3769      Maricopa                                 HomeSmart       4.0   \n",
       "3770      Maricopa  Russ Lyon Sotheby's International Realty       5.0   \n",
       "3771      Maricopa                     RE/MAX Alliance Group       2.0   \n",
       "\n",
       "      Bathrooms  \n",
       "0           2.0  \n",
       "1           3.0  \n",
       "2           1.0  \n",
       "3           3.0  \n",
       "4           3.0  \n",
       "...         ...  \n",
       "3767        2.0  \n",
       "3768        1.0  \n",
       "3769        3.0  \n",
       "3770        7.0  \n",
       "3771        2.0  \n",
       "\n",
       "[3772 rows x 10 columns]"
      ]
     },
     "execution_count": 123,
     "metadata": {},
     "output_type": "execute_result"
    }
   ],
   "source": [
    "df = pd.read_csv('houses_for_exploring.csv')\n",
    "df"
   ]
  },
  {
   "cell_type": "markdown",
   "metadata": {},
   "source": [
    "# Make questions and answer"
   ]
  },
  {
   "cell_type": "markdown",
   "metadata": {},
   "source": [
    "## 1. What is the relationship between price and number of rooms for townhouse type?"
   ]
  },
  {
   "cell_type": "markdown",
   "metadata": {},
   "source": [
    "**Benefit**: help to understand how the price of a townhouse is influenced by the number of rooms, providing insights into pricing trends and space-value relationships."
   ]
  },
  {
   "cell_type": "markdown",
   "metadata": {},
   "source": [
    "- Extract the records that have ```Type``` is townhouse and calculate total rooms of each record by summing ```Bedrooms``` and ```Bathrooms```"
   ]
  },
  {
   "cell_type": "code",
   "execution_count": 124,
   "metadata": {},
   "outputs": [],
   "source": [
    "df_rooms = df[df['Type'] == 'Townhouse']\n",
    "df_rooms = df_rooms[['Price', 'Bedrooms', 'Bathrooms']].copy()\n",
    "df_rooms['Rooms'] = df['Bedrooms'] + df['Bathrooms']"
   ]
  },
  {
   "cell_type": "markdown",
   "metadata": {},
   "source": [
    "- Visualize the scatter plot of ```Price``` and ```Rooms```"
   ]
  },
  {
   "cell_type": "code",
   "execution_count": 125,
   "metadata": {},
   "outputs": [
    {
     "data": {
      "text/plain": [
       "Text(0.5, 1.0, 'Price vs. Rooms for townhouse type')"
      ]
     },
     "execution_count": 125,
     "metadata": {},
     "output_type": "execute_result"
    },
    {
     "data": {
      "image/png": "[encoded data removed]",
      "text/plain": [
       "<Figure size 640x480 with 1 Axes>"
      ]
     },
     "metadata": {},
     "output_type": "display_data"
    }
   ],
   "source": [
    "x = df_rooms['Rooms']\n",
    "y = df_rooms['Price']\n",
    "plt.scatter(x, y, alpha=0.6, edgecolors='k')\n",
    "slope, intercept = np.polyfit(x, y, 1)  \n",
    "regression_line = slope * x + intercept\n",
    "plt.plot(x, regression_line, color='red')\n",
    "plt.xlabel('Rooms')\n",
    "plt.ylabel('Price')\n",
    "plt.title('Price vs. Rooms for townhouse type')"
   ]
  },
  {
   "cell_type": "markdown",
   "metadata": {},
   "source": [
    "- Check for the correlation between ```Price``` and ```Rooms```"
   ]
  },
  {
   "cell_type": "code",
   "execution_count": 126,
   "metadata": {},
   "outputs": [
    {
     "name": "stdout",
     "output_type": "stream",
     "text": [
      "Correlation between Price and Rooms: 0.5113606895195971\n"
     ]
    }
   ],
   "source": [
    "correlation = df_rooms['Price'].corr(df_rooms['Rooms'])\n",
    "print(f\"Correlation between Price and Rooms: {correlation}\")"
   ]
  },
  {
   "cell_type": "markdown",
   "metadata": {},
   "source": [
    "### Comments"
   ]
  },
  {
   "cell_type": "markdown",
   "metadata": {},
   "source": [
    "- From the scatter plot and correlation of ```Price``` and ```Room``` of ```Type``` townhouse, we can clearly see that they have a moderate relationship to each other ($corr = 0.51$).\n",
    "- This indicates that an increase in the number of rooms is moderately associated with a rise in ```Price``` for townhouses in most cases. However, other factors may also influence the price, as the correlation is not really strong."
   ]
  },
  {
   "cell_type": "markdown",
   "metadata": {},
   "source": [
    "## 2. Which type of property has the highest average price?"
   ]
  },
  {
   "cell_type": "markdown",
   "metadata": {},
   "source": [
    "**Benefit**: identify the property type with the highest average price, helping to determine which property category is considered more valuable in the dataset."
   ]
  },
  {
   "cell_type": "markdown",
   "metadata": {},
   "source": [
    "- Calculate the mean of ```Price``` grouped by ```Type```"
   ]
  },
  {
   "cell_type": "code",
   "execution_count": 127,
   "metadata": {},
   "outputs": [
    {
     "name": "stdout",
     "output_type": "stream",
     "text": [
      "Average price by property type:\n",
      "Type\n",
      "Other           6303.178457\n",
      "Rural           5250.000000\n",
      "House           3895.576094\n",
      "Apartment       2616.219081\n",
      "Townhouse       2525.646360\n",
      "Multi family    1205.000000\n",
      "Name: Price, dtype: float64\n"
     ]
    }
   ],
   "source": [
    "avg_price_by_property = df.groupby('Type')['Price'].mean()\n",
    "print(\"Average price by property type:\")\n",
    "print(avg_price_by_property.sort_values(ascending=False))"
   ]
  },
  {
   "cell_type": "markdown",
   "metadata": {},
   "source": [
    "### Comments"
   ]
  },
  {
   "cell_type": "markdown",
   "metadata": {},
   "source": [
    "- The average price by property type shows that Other has the highest average price (6303.18), followed by Rural (5250.00) and House (3895.58). Apartment (2616.22) and Townhouse (2525.65) are more affordable, while Multi-family has the lowest average price at 1205.00. \n",
    "\n",
    "- This suggests that larger properties like houses tend to have higher prices, while smaller, multi-unit properties are generally more affordable."
   ]
  },
  {
   "cell_type": "markdown",
   "metadata": {},
   "source": [
    "## 3.  How does building size affect price in the 10 counties with the most occurrences in the dataset?"
   ]
  },
  {
   "cell_type": "markdown",
   "metadata": {},
   "source": [
    "**Benefit**:  explores how building size influences price in the most frequently represented counties, offering insights into regional pricing trends and the impact of property size on value."
   ]
  },
  {
   "cell_type": "markdown",
   "metadata": {},
   "source": [
    "- Identify top 10 counties"
   ]
  },
  {
   "cell_type": "code",
   "execution_count": 128,
   "metadata": {},
   "outputs": [
    {
     "data": {
      "text/plain": [
       "['PHILADELPHIA',\n",
       " 'Los Angeles',\n",
       " 'Miami-Dade',\n",
       " 'Palm Beach',\n",
       " 'Cook',\n",
       " 'Orange',\n",
       " 'Dallas',\n",
       " 'Tarrant',\n",
       " 'Maricopa',\n",
       " 'Clark']"
      ]
     },
     "execution_count": 128,
     "metadata": {},
     "output_type": "execute_result"
    }
   ],
   "source": [
    "county_counts = df['County'].value_counts()\n",
    "top_10_counties = county_counts.head(10).index.tolist()\n",
    "top_10_counties"
   ]
  },
  {
   "cell_type": "markdown",
   "metadata": {},
   "source": [
    "- Filter the data by ```County```"
   ]
  },
  {
   "cell_type": "code",
   "execution_count": 129,
   "metadata": {},
   "outputs": [
    {
     "data": {
      "text/html": [
       "<div>\n",
       "<style scoped>\n",
       "    .dataframe tbody tr th:only-of-type {\n",
       "        vertical-align: middle;\n",
       "    }\n",
       "\n",
       "    .dataframe tbody tr th {\n",
       "        vertical-align: top;\n",
       "    }\n",
       "\n",
       "    .dataframe thead th {\n",
       "        text-align: right;\n",
       "    }\n",
       "</style>\n",
       "<table border=\"1\" class=\"dataframe\">\n",
       "  <thead>\n",
       "    <tr style=\"text-align: right;\">\n",
       "      <th></th>\n",
       "      <th>Price</th>\n",
       "      <th>Type</th>\n",
       "      <th>Status</th>\n",
       "      <th>Land Size</th>\n",
       "      <th>Building Size</th>\n",
       "      <th>Architecture Style</th>\n",
       "      <th>County</th>\n",
       "      <th>Provider</th>\n",
       "      <th>Bedrooms</th>\n",
       "      <th>Bathrooms</th>\n",
       "    </tr>\n",
       "  </thead>\n",
       "  <tbody>\n",
       "    <tr>\n",
       "      <th>1</th>\n",
       "      <td>3000.0</td>\n",
       "      <td>Apartment</td>\n",
       "      <td>Active</td>\n",
       "      <td>161.87</td>\n",
       "      <td>205.13</td>\n",
       "      <td>Other</td>\n",
       "      <td>PHILADELPHIA</td>\n",
       "      <td>Compass</td>\n",
       "      <td>2.0</td>\n",
       "      <td>3.0</td>\n",
       "    </tr>\n",
       "    <tr>\n",
       "      <th>2</th>\n",
       "      <td>1195.0</td>\n",
       "      <td>Apartment</td>\n",
       "      <td>Active</td>\n",
       "      <td>768.90</td>\n",
       "      <td>133.04</td>\n",
       "      <td>Other</td>\n",
       "      <td>PHILADELPHIA</td>\n",
       "      <td>OCF Realty</td>\n",
       "      <td>1.0</td>\n",
       "      <td>1.0</td>\n",
       "    </tr>\n",
       "    <tr>\n",
       "      <th>7</th>\n",
       "      <td>1925.0</td>\n",
       "      <td>Apartment</td>\n",
       "      <td>Active</td>\n",
       "      <td>971.25</td>\n",
       "      <td>77.11</td>\n",
       "      <td>Other</td>\n",
       "      <td>PHILADELPHIA</td>\n",
       "      <td>National Realty Old City LLC</td>\n",
       "      <td>1.0</td>\n",
       "      <td>1.0</td>\n",
       "    </tr>\n",
       "    <tr>\n",
       "      <th>8</th>\n",
       "      <td>3500.0</td>\n",
       "      <td>Townhouse</td>\n",
       "      <td>Active</td>\n",
       "      <td>242.81</td>\n",
       "      <td>106.84</td>\n",
       "      <td>Rambler</td>\n",
       "      <td>PHILADELPHIA</td>\n",
       "      <td>RE/MAX Properties, Ltd.</td>\n",
       "      <td>3.0</td>\n",
       "      <td>3.0</td>\n",
       "    </tr>\n",
       "    <tr>\n",
       "      <th>9</th>\n",
       "      <td>1695.0</td>\n",
       "      <td>Apartment</td>\n",
       "      <td>Active</td>\n",
       "      <td>566.56</td>\n",
       "      <td>51.19</td>\n",
       "      <td>Other</td>\n",
       "      <td>PHILADELPHIA</td>\n",
       "      <td>JG Real Estate</td>\n",
       "      <td>1.0</td>\n",
       "      <td>1.0</td>\n",
       "    </tr>\n",
       "    <tr>\n",
       "      <th>...</th>\n",
       "      <td>...</td>\n",
       "      <td>...</td>\n",
       "      <td>...</td>\n",
       "      <td>...</td>\n",
       "      <td>...</td>\n",
       "      <td>...</td>\n",
       "      <td>...</td>\n",
       "      <td>...</td>\n",
       "      <td>...</td>\n",
       "      <td>...</td>\n",
       "    </tr>\n",
       "    <tr>\n",
       "      <th>3767</th>\n",
       "      <td>2050.0</td>\n",
       "      <td>Other</td>\n",
       "      <td>Active</td>\n",
       "      <td>566.56</td>\n",
       "      <td>175.03</td>\n",
       "      <td>Contemporary</td>\n",
       "      <td>Maricopa</td>\n",
       "      <td>Realty ONE Group</td>\n",
       "      <td>3.0</td>\n",
       "      <td>2.0</td>\n",
       "    </tr>\n",
       "    <tr>\n",
       "      <th>3768</th>\n",
       "      <td>1300.0</td>\n",
       "      <td>Other</td>\n",
       "      <td>Active</td>\n",
       "      <td>930.78</td>\n",
       "      <td>104.98</td>\n",
       "      <td>Ranch</td>\n",
       "      <td>Maricopa</td>\n",
       "      <td>Real Living SJ Fowler Real Estate</td>\n",
       "      <td>2.0</td>\n",
       "      <td>1.0</td>\n",
       "    </tr>\n",
       "    <tr>\n",
       "      <th>3769</th>\n",
       "      <td>3499.0</td>\n",
       "      <td>Other</td>\n",
       "      <td>Active</td>\n",
       "      <td>890.31</td>\n",
       "      <td>345.79</td>\n",
       "      <td>Contemporary</td>\n",
       "      <td>Maricopa</td>\n",
       "      <td>HomeSmart</td>\n",
       "      <td>4.0</td>\n",
       "      <td>3.0</td>\n",
       "    </tr>\n",
       "    <tr>\n",
       "      <th>3770</th>\n",
       "      <td>10900.0</td>\n",
       "      <td>Other</td>\n",
       "      <td>Active</td>\n",
       "      <td>1254.53</td>\n",
       "      <td>653.94</td>\n",
       "      <td>Other</td>\n",
       "      <td>Maricopa</td>\n",
       "      <td>Russ Lyon Sotheby's International Realty</td>\n",
       "      <td>5.0</td>\n",
       "      <td>7.0</td>\n",
       "    </tr>\n",
       "    <tr>\n",
       "      <th>3771</th>\n",
       "      <td>2300.0</td>\n",
       "      <td>Other</td>\n",
       "      <td>Active</td>\n",
       "      <td>323.75</td>\n",
       "      <td>115.85</td>\n",
       "      <td>Contemporary</td>\n",
       "      <td>Maricopa</td>\n",
       "      <td>RE/MAX Alliance Group</td>\n",
       "      <td>2.0</td>\n",
       "      <td>2.0</td>\n",
       "    </tr>\n",
       "  </tbody>\n",
       "</table>\n",
       "<p>1249 rows × 10 columns</p>\n",
       "</div>"
      ],
      "text/plain": [
       "        Price       Type  Status  Land Size  Building Size Architecture Style  \\\n",
       "1      3000.0  Apartment  Active     161.87         205.13              Other   \n",
       "2      1195.0  Apartment  Active     768.90         133.04              Other   \n",
       "7      1925.0  Apartment  Active     971.25          77.11              Other   \n",
       "8      3500.0  Townhouse  Active     242.81         106.84            Rambler   \n",
       "9      1695.0  Apartment  Active     566.56          51.19              Other   \n",
       "...       ...        ...     ...        ...            ...                ...   \n",
       "3767   2050.0      Other  Active     566.56         175.03       Contemporary   \n",
       "3768   1300.0      Other  Active     930.78         104.98              Ranch   \n",
       "3769   3499.0      Other  Active     890.31         345.79       Contemporary   \n",
       "3770  10900.0      Other  Active    1254.53         653.94              Other   \n",
       "3771   2300.0      Other  Active     323.75         115.85       Contemporary   \n",
       "\n",
       "            County                                  Provider  Bedrooms  \\\n",
       "1     PHILADELPHIA                                   Compass       2.0   \n",
       "2     PHILADELPHIA                                OCF Realty       1.0   \n",
       "7     PHILADELPHIA              National Realty Old City LLC       1.0   \n",
       "8     PHILADELPHIA                   RE/MAX Properties, Ltd.       3.0   \n",
       "9     PHILADELPHIA                            JG Real Estate       1.0   \n",
       "...            ...                                       ...       ...   \n",
       "3767      Maricopa                          Realty ONE Group       3.0   \n",
       "3768      Maricopa         Real Living SJ Fowler Real Estate       2.0   \n",
       "3769      Maricopa                                 HomeSmart       4.0   \n",
       "3770      Maricopa  Russ Lyon Sotheby's International Realty       5.0   \n",
       "3771      Maricopa                     RE/MAX Alliance Group       2.0   \n",
       "\n",
       "      Bathrooms  \n",
       "1           3.0  \n",
       "2           1.0  \n",
       "7           1.0  \n",
       "8           3.0  \n",
       "9           1.0  \n",
       "...         ...  \n",
       "3767        2.0  \n",
       "3768        1.0  \n",
       "3769        3.0  \n",
       "3770        7.0  \n",
       "3771        2.0  \n",
       "\n",
       "[1249 rows x 10 columns]"
      ]
     },
     "execution_count": 129,
     "metadata": {},
     "output_type": "execute_result"
    }
   ],
   "source": [
    "filtered_df = df[df['County'].isin(top_10_counties)]\n",
    "filtered_df"
   ]
  },
  {
   "cell_type": "markdown",
   "metadata": {},
   "source": [
    "- Visualize the scatter plot of ```Building Size``` and ```Price```"
   ]
  },
  {
   "cell_type": "code",
   "execution_count": 130,
   "metadata": {},
   "outputs": [
    {
     "data": {
      "image/png": "[encoded data removed]",
      "text/plain": [
       "<Figure size 1000x600 with 1 Axes>"
      ]
     },
     "metadata": {},
     "output_type": "display_data"
    }
   ],
   "source": [
    "plt.figure(figsize=(10, 6))\n",
    "plt.scatter(filtered_df['Building Size'], filtered_df['Price'], alpha=0.6, edgecolors='k')\n",
    "\n",
    "x = filtered_df['Building Size']\n",
    "y = filtered_df['Price']\n",
    "slope, intercept = np.polyfit(x, y, 1)  # Linear regression\n",
    "regression_line = slope * x + intercept\n",
    "plt.plot(x, regression_line, color='red')\n",
    "\n",
    "plt.xlabel(\"Building Size\")\n",
    "plt.ylabel(\"Price\")\n",
    "plt.title(\"Building Size vs. Price in Top 10 Counties\")\n",
    "plt.show()"
   ]
  },
  {
   "cell_type": "markdown",
   "metadata": {},
   "source": [
    "- Check for the correlation between ```Building Size``` and ```Price```"
   ]
  },
  {
   "cell_type": "code",
   "execution_count": 131,
   "metadata": {},
   "outputs": [
    {
     "name": "stdout",
     "output_type": "stream",
     "text": [
      "Correlation between Price and Rooms: 0.10535608411990785\n"
     ]
    }
   ],
   "source": [
    "correlation = filtered_df['Price'].corr(filtered_df['Building Size'])\n",
    "print(f\"Correlation between Price and Rooms: {correlation}\")"
   ]
  },
  {
   "cell_type": "markdown",
   "metadata": {},
   "source": [
    "### Comments"
   ]
  },
  {
   "cell_type": "markdown",
   "metadata": {},
   "source": [
    "- From the scatter plot and correlation of ```Price``` and ```Building Size``` of top 10 ```County```, we can clearly see that they have a weak relationship to each other ($corr = 0.1$).\n",
    "- This indicates that in low cases an increase in the number ofbuilding size is weakly associated with a rise in ```Price``` among these countíe. Other factors may also influence the price, as the correlation is not strong."
   ]
  },
  {
   "cell_type": "markdown",
   "metadata": {},
   "source": [
    "## 4. Are there any price differences between different types of properties?"
   ]
  },
  {
   "cell_type": "markdown",
   "metadata": {},
   "source": [
    "**Benefit**: identify if price varies significantly across different property types, providing insights into market segmentation and pricing strategies."
   ]
  },
  {
   "cell_type": "markdown",
   "metadata": {},
   "source": [
    "- Group the ```Price``` by ```Type```"
   ]
  },
  {
   "cell_type": "code",
   "execution_count": 132,
   "metadata": {},
   "outputs": [],
   "source": [
    "df_price_by_types = df.groupby('Type')['Price']\n",
    "types = df['Type'].unique()"
   ]
  },
  {
   "cell_type": "markdown",
   "metadata": {},
   "source": [
    "- Visualize histograms for each ```Type```"
   ]
  },
  {
   "cell_type": "code",
   "execution_count": 133,
   "metadata": {},
   "outputs": [
    {
     "data": {
      "image/png": "[encoded data removed]",
      "text/plain": [
       "<Figure size 1400x600 with 6 Axes>"
      ]
     },
     "metadata": {},
     "output_type": "display_data"
    }
   ],
   "source": [
    "fig, axes = plt.subplots(ncols=3, nrows=2, figsize=(14, 6))\n",
    "axes = axes.flatten()\n",
    "for i, type_ in enumerate(types):\n",
    "    prices = df[df['Type'] == type_]['Price']\n",
    "    sns.histplot(prices, kde=True, bins=30, alpha=0.6, ax=axes[i])\n",
    "    axes[i].set_title(f'Price Distribution for {type_}')\n",
    "    axes[i].set_xlabel('Price')\n",
    "    axes[i].set_ylabel('Density/Frequency')\n",
    "\n",
    "plt.tight_layout()\n",
    "plt.show()"
   ]
  },
  {
   "cell_type": "markdown",
   "metadata": {},
   "source": [
    "### Comments"
   ]
  },
  {
   "cell_type": "markdown",
   "metadata": {},
   "source": [
    "- Through the histograms, the range of ```Price``` is varies across different types.\n",
    "\n",
    "- House and Other type has the widest range of ```Price```. Apartment has wide range also although the range is not varies as House. $\\rightarrow$ This indicates that the types of house that have high popularity will have many different price points, while less popular types may have a more concentrated price range."
   ]
  },
  {
   "cell_type": "markdown",
   "metadata": {},
   "source": [
    "## 5. Which provider tends to offer wider range of properties?"
   ]
  },
  {
   "cell_type": "markdown",
   "metadata": {},
   "source": [
    "**Benefit**: determine which provider offers a more diverse selection of properties, indicating their market reach and ability to cater to various customer preferences."
   ]
  },
  {
   "cell_type": "markdown",
   "metadata": {},
   "source": [
    "- Count the number of distinct ```Type``` occur in the dataset"
   ]
  },
  {
   "cell_type": "code",
   "execution_count": 134,
   "metadata": {},
   "outputs": [
    {
     "data": {
      "text/plain": [
       "6"
      ]
     },
     "execution_count": 134,
     "metadata": {},
     "output_type": "execute_result"
    }
   ],
   "source": [
    "df['Type'].nunique()"
   ]
  },
  {
   "cell_type": "markdown",
   "metadata": {},
   "source": [
    "- All of ```Type``` in dataset"
   ]
  },
  {
   "cell_type": "code",
   "execution_count": 135,
   "metadata": {},
   "outputs": [
    {
     "data": {
      "text/plain": [
       "array(['House', 'Apartment', 'Townhouse', 'Other', 'Multi family',\n",
       "       'Rural'], dtype=object)"
      ]
     },
     "execution_count": 135,
     "metadata": {},
     "output_type": "execute_result"
    }
   ],
   "source": [
    "df['Type'].unique()"
   ]
  },
  {
   "cell_type": "markdown",
   "metadata": {},
   "source": [
    "- Identify provider with wide range of properties sort by number of distinct ```Type```"
   ]
  },
  {
   "cell_type": "code",
   "execution_count": 136,
   "metadata": {},
   "outputs": [
    {
     "name": "stdout",
     "output_type": "stream",
     "text": [
      "Provider\n",
      "Charles Rutenberg Realty, Inc.    4\n",
      "Charles Rutenberg Realty, Inc     4\n",
      "eXp Realty                        4\n",
      "eXp Realty, LLC                   4\n",
      "Maxwell Realty Company Inc        4\n",
      "LPT Realty LLC                    4\n",
      "LoKation Real Estate              4\n",
      "Keyes Company Realtors            4\n",
      "LPT Realty, LLC.                  4\n",
      "Keller Williams Main Line         4\n",
      "Keller Williams Realty            4\n",
      "Carnegie Real Estate LLC          4\n",
      "Compass                           4\n",
      "Real Broker, LLC                  4\n",
      "Name: Type, dtype: int64\n"
     ]
    }
   ],
   "source": [
    "provider_property_range = df.groupby('Provider')['Type'].nunique()\n",
    "provider_property_range = provider_property_range.sort_values(ascending=False)\n",
    "max_value = provider_property_range.max()\n",
    "print(provider_property_range[provider_property_range == max_value])"
   ]
  },
  {
   "cell_type": "markdown",
   "metadata": {},
   "source": [
    "From the result above, there are some providers that have the same name to each other, but they are distinguished by comma or dot, this is due to syntax problems when crawling data, and earlier preprocess methods haven't supported this.\n",
    "\n",
    "But **LLC** seems to occur frequently in the list. Based on my knowledge of the data, **LLC** is Limited Liability Company. It is a type of business structure commonly used in many countries, including the United States that combines the flexibility and simplicity of a partnership with the liability protection of a corporation.\n",
    "\n",
    "$\\rightarrow$ We will explore **LLC**'s range of properties."
   ]
  },
  {
   "cell_type": "markdown",
   "metadata": {},
   "source": [
    "- Identify **LLC**'s range of properties"
   ]
  },
  {
   "cell_type": "code",
   "execution_count": 137,
   "metadata": {},
   "outputs": [
    {
     "name": "stdout",
     "output_type": "stream",
     "text": [
      "Total distinct property types for LLC providers: 4\n"
     ]
    }
   ],
   "source": [
    "df_llc = df[df['Provider'].str.contains('LLC', case=False, na=False)]\n",
    "provider_property_range_llc = df_llc.groupby('Provider')['Type'].nunique()\n",
    "max_distinct_types_llc = provider_property_range_llc.max()\n",
    "print(f\"Total distinct property types for LLC providers: {max_distinct_types_llc}\")"
   ]
  },
  {
   "cell_type": "markdown",
   "metadata": {},
   "source": [
    "- Properties that was provided by **LLC**"
   ]
  },
  {
   "cell_type": "code",
   "execution_count": 138,
   "metadata": {},
   "outputs": [
    {
     "data": {
      "text/plain": [
       "array(['Apartment', 'Townhouse', 'House', 'Other'], dtype=object)"
      ]
     },
     "execution_count": 138,
     "metadata": {},
     "output_type": "execute_result"
    }
   ],
   "source": [
    "df_llc['Type'].unique()"
   ]
  },
  {
   "cell_type": "markdown",
   "metadata": {},
   "source": [
    "So **LLC** mainly provides Apartment, Townhouse and House."
   ]
  },
  {
   "cell_type": "markdown",
   "metadata": {},
   "source": [
    "### Comments"
   ]
  },
  {
   "cell_type": "markdown",
   "metadata": {},
   "source": [
    "- Most of the providers that have wide range of properties have the max range of properties is 4. Comparing to the range of properties of the dataset is 6, there are no individual providers that cover all the properties.\n",
    "$\\rightarrow$ This indicates that the providers tend to offer specific types of house ,rather than a full variety of property types. This specialization could be driven by market demand, business strategy, or resource limitations, leading providers to focus on particular property segments.\n",
    "\n",
    "- For **LLC**, it still has the max number of type is 4. That are Apartment, Townhouse, House. LLCs can provide a wide range of house types because they offer operational flexibility and limited liability protection, allowing them to invest in diverse properties while minimizing personal risk."
   ]
  }
 ],
 "metadata": {
  "kernelspec": {
   "display_name": "Python 3",
   "language": "python",
   "name": "python3"
  },
  "language_info": {
   "codemirror_mode": {
    "name": "ipython",
    "version": 3
   },
   "file_extension": ".py",
   "mimetype": "text/x-python",
   "name": "python",
   "nbconvert_exporter": "python",
   "pygments_lexer": "ipython3",
   "version": "3.11.9"
  }
 },
 "nbformat": 4,
 "nbformat_minor": 2
}
