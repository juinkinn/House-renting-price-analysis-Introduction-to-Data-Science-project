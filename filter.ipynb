{
 "cells": [
  {
   "cell_type": "code",
   "execution_count": 3,
   "metadata": {},
   "outputs": [],
   "source": [
    "import pandas as pd\n",
    "from sklearn.preprocessing import MinMaxScaler\n",
    "\n",
    "df = pd.read_csv('houses.csv')\n",
    "\n",
    "threshold = len(df.columns) * 0.3\n",
    "df = df.dropna(thresh=threshold)\n",
    "\n",
    "\n",
    "df['Price'] = df['Price'].str.replace(r'[^\\d.]', '', regex=True)\n",
    "df['Price'] = pd.to_numeric(df['Price'], errors='coerce')\n",
    "\n",
    "df['Rooms'] = df['Rooms'].fillna(df['Rooms'].mode()[0])\n",
    "\n",
    "\n",
    "df['Land Size'] = df['Land Size'].str.replace(r'[^\\d.]', '', regex=True)\n",
    "df['Land Size'] = pd.to_numeric(df['Land Size'], errors='coerce')\n",
    "\n",
    "df['Building Size'] = df['Building Size'].str.replace(r'[^\\d.]', '', regex=True)\n",
    "df['Building Size'] = pd.to_numeric(df['Building Size'], errors='coerce')\n",
    "\n",
    "num_cols = ['Price', 'Parking Spaces', 'Land Size', 'Building Size']\n",
    "for col in num_cols:\n",
    "    df[col] = df[col].fillna(df[col].median())\n",
    "\n",
    "df['Price'] = df['Price'].apply(lambda x: f\"USD ${x:,.2f}\" if not pd.isnull(x) else x)\n",
    "df['Land Size'] = df['Land Size'].apply(lambda x: f\"{x} m2\" if not pd.isnull(x) else x)\n",
    "df['Building Size'] = df['Building Size'].apply(lambda x: f\"{x} m2\" if not pd.isnull(x) else x)\n",
    "\n",
    "cat_cols = ['Type', 'Status', 'Architecture Style', 'County', 'Provider']\n",
    "for col in cat_cols:\n",
    "    df[col] = df[col].fillna(df[col].mode()[0])\n",
    "\n",
    "df.to_csv(\"test.csv\", index=False)\n"
   ]
  }
 ],
 "metadata": {
  "kernelspec": {
   "display_name": "Python 3",
   "language": "python",
   "name": "python3"
  },
  "language_info": {
   "codemirror_mode": {
    "name": "ipython",
    "version": 3
   },
   "file_extension": ".py",
   "mimetype": "text/x-python",
   "name": "python",
   "nbconvert_exporter": "python",
   "pygments_lexer": "ipython3",
   "version": "3.12.2"
  }
 },
 "nbformat": 4,
 "nbformat_minor": 2
}
