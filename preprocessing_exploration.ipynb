{
 "cells": [
  {
   "cell_type": "markdown",
   "metadata": {},
   "source": [
    "# Final Project - Introduction to Data Science"
   ]
  },
  {
   "cell_type": "markdown",
   "metadata": {},
   "source": [
    "**Team members:**\n",
    "\n",
    "1. Nguyễn Hoàng Trung Kiên (Leader) - 22127478\n",
    "\n",
    "2. Quách Trần Quán Vinh - 22127460\n",
    "\n",
    "3. Ngô Hải Bằng - 22127460"
   ]
  },
  {
   "cell_type": "markdown",
   "metadata": {},
   "source": [
    "# I. Preprocessing:"
   ]
  },
  {
   "cell_type": "markdown",
   "metadata": {},
   "source": [
    "### Importing libraries"
   ]
  },
  {
   "cell_type": "code",
   "execution_count": 3,
   "metadata": {},
   "outputs": [],
   "source": [
    "import pandas as pd\n",
    "import re"
   ]
  },
  {
   "cell_type": "markdown",
   "metadata": {},
   "source": [
    "## 1. Data cleaning"
   ]
  },
  {
   "cell_type": "markdown",
   "metadata": {},
   "source": [
    "#### Read data ####"
   ]
  },
  {
   "cell_type": "code",
   "execution_count": 4,
   "metadata": {},
   "outputs": [
    {
     "data": {
      "text/html": [
       "<div>\n",
       "<style scoped>\n",
       "    .dataframe tbody tr th:only-of-type {\n",
       "        vertical-align: middle;\n",
       "    }\n",
       "\n",
       "    .dataframe tbody tr th {\n",
       "        vertical-align: top;\n",
       "    }\n",
       "\n",
       "    .dataframe thead th {\n",
       "        text-align: right;\n",
       "    }\n",
       "</style>\n",
       "<table border=\"1\" class=\"dataframe\">\n",
       "  <thead>\n",
       "    <tr style=\"text-align: right;\">\n",
       "      <th></th>\n",
       "      <th>Price</th>\n",
       "      <th>Rooms</th>\n",
       "      <th>Type</th>\n",
       "      <th>Status</th>\n",
       "      <th>Parking Spaces</th>\n",
       "      <th>Land Size</th>\n",
       "      <th>Building Size</th>\n",
       "      <th>Architecture Style</th>\n",
       "      <th>County</th>\n",
       "      <th>Provider</th>\n",
       "    </tr>\n",
       "  </thead>\n",
       "  <tbody>\n",
       "    <tr>\n",
       "      <th>0</th>\n",
       "      <td>USD $2,200 per month</td>\n",
       "      <td>3 bedroom(s), 2 bathroom(s)</td>\n",
       "      <td>House</td>\n",
       "      <td>Active</td>\n",
       "      <td>NaN</td>\n",
       "      <td>NaN</td>\n",
       "      <td>136.20 m2</td>\n",
       "      <td>Other</td>\n",
       "      <td>Mohave</td>\n",
       "      <td>Black Mountain Valley Realty, Inc</td>\n",
       "    </tr>\n",
       "    <tr>\n",
       "      <th>1</th>\n",
       "      <td>USD $3,000 per month</td>\n",
       "      <td>2 bedroom(s), 3 bathroom(s)</td>\n",
       "      <td>Apartment</td>\n",
       "      <td>Active</td>\n",
       "      <td>NaN</td>\n",
       "      <td>161.87 m2</td>\n",
       "      <td>205.13 m2</td>\n",
       "      <td>Other</td>\n",
       "      <td>PHILADELPHIA</td>\n",
       "      <td>Compass</td>\n",
       "    </tr>\n",
       "    <tr>\n",
       "      <th>2</th>\n",
       "      <td>USD $1,195 per month</td>\n",
       "      <td>1 bedroom(s), 1 bathroom(s)</td>\n",
       "      <td>Apartment</td>\n",
       "      <td>Active</td>\n",
       "      <td>NaN</td>\n",
       "      <td>768.90 m2</td>\n",
       "      <td>NaN</td>\n",
       "      <td>Other</td>\n",
       "      <td>PHILADELPHIA</td>\n",
       "      <td>OCF Realty</td>\n",
       "    </tr>\n",
       "    <tr>\n",
       "      <th>3</th>\n",
       "      <td>USD $8,000 per month</td>\n",
       "      <td>4 bedroom(s), 3 bathroom(s)</td>\n",
       "      <td>Townhouse</td>\n",
       "      <td>Active</td>\n",
       "      <td>NaN</td>\n",
       "      <td>728.43 m2</td>\n",
       "      <td>213.68 m2</td>\n",
       "      <td>Other</td>\n",
       "      <td>Ventura</td>\n",
       "      <td>eXp Realty of California Inc.</td>\n",
       "    </tr>\n",
       "    <tr>\n",
       "      <th>4</th>\n",
       "      <td>USD $5,600 per month</td>\n",
       "      <td>4 bedroom(s), 3 bathroom(s), 1 basement(s)</td>\n",
       "      <td>House</td>\n",
       "      <td>Active</td>\n",
       "      <td>4.0</td>\n",
       "      <td>849.84 m2</td>\n",
       "      <td>266.72 m2</td>\n",
       "      <td>Colonial</td>\n",
       "      <td>FAIRFAX</td>\n",
       "      <td>Keller Williams Fairfax Gateway</td>\n",
       "    </tr>\n",
       "    <tr>\n",
       "      <th>...</th>\n",
       "      <td>...</td>\n",
       "      <td>...</td>\n",
       "      <td>...</td>\n",
       "      <td>...</td>\n",
       "      <td>...</td>\n",
       "      <td>...</td>\n",
       "      <td>...</td>\n",
       "      <td>...</td>\n",
       "      <td>...</td>\n",
       "      <td>...</td>\n",
       "    </tr>\n",
       "    <tr>\n",
       "      <th>3995</th>\n",
       "      <td>USD $2,050 per month</td>\n",
       "      <td>3 bedroom(s), 2 bathroom(s)</td>\n",
       "      <td>Other</td>\n",
       "      <td>Active</td>\n",
       "      <td>NaN</td>\n",
       "      <td>566.56 m2</td>\n",
       "      <td>175.03 m2</td>\n",
       "      <td>Contemporary</td>\n",
       "      <td>Maricopa</td>\n",
       "      <td>Realty ONE Group</td>\n",
       "    </tr>\n",
       "    <tr>\n",
       "      <th>3996</th>\n",
       "      <td>USD $1,300 per month</td>\n",
       "      <td>2 bedroom(s), 1 bathroom(s)</td>\n",
       "      <td>Other</td>\n",
       "      <td>Active</td>\n",
       "      <td>NaN</td>\n",
       "      <td>930.78 m2</td>\n",
       "      <td>104.98 m2</td>\n",
       "      <td>Ranch</td>\n",
       "      <td>Maricopa</td>\n",
       "      <td>Real Living SJ Fowler Real Estate</td>\n",
       "    </tr>\n",
       "    <tr>\n",
       "      <th>3997</th>\n",
       "      <td>USD $3,499 per month</td>\n",
       "      <td>4 bedroom(s), 3 bathroom(s)</td>\n",
       "      <td>Other</td>\n",
       "      <td>Active</td>\n",
       "      <td>NaN</td>\n",
       "      <td>890.31 m2</td>\n",
       "      <td>345.79 m2</td>\n",
       "      <td>Contemporary</td>\n",
       "      <td>Maricopa</td>\n",
       "      <td>HomeSmart</td>\n",
       "    </tr>\n",
       "    <tr>\n",
       "      <th>3998</th>\n",
       "      <td>USD $10,900 per month</td>\n",
       "      <td>5 bedroom(s), 7 bathroom(s)</td>\n",
       "      <td>Other</td>\n",
       "      <td>Active</td>\n",
       "      <td>NaN</td>\n",
       "      <td>1,254.53 m2</td>\n",
       "      <td>653.94 m2</td>\n",
       "      <td>Other</td>\n",
       "      <td>Maricopa</td>\n",
       "      <td>Russ Lyon Sotheby's International Realty</td>\n",
       "    </tr>\n",
       "    <tr>\n",
       "      <th>3999</th>\n",
       "      <td>USD $2,300 per month</td>\n",
       "      <td>2 bedroom(s), 2 bathroom(s)</td>\n",
       "      <td>Other</td>\n",
       "      <td>Active</td>\n",
       "      <td>NaN</td>\n",
       "      <td>323.75 m2</td>\n",
       "      <td>115.85 m2</td>\n",
       "      <td>Contemporary</td>\n",
       "      <td>Maricopa</td>\n",
       "      <td>RE/MAX Alliance Group</td>\n",
       "    </tr>\n",
       "  </tbody>\n",
       "</table>\n",
       "<p>4000 rows × 10 columns</p>\n",
       "</div>"
      ],
      "text/plain": [
       "                      Price                                       Rooms  \\\n",
       "0      USD $2,200 per month                 3 bedroom(s), 2 bathroom(s)   \n",
       "1      USD $3,000 per month                 2 bedroom(s), 3 bathroom(s)   \n",
       "2      USD $1,195 per month                 1 bedroom(s), 1 bathroom(s)   \n",
       "3      USD $8,000 per month                 4 bedroom(s), 3 bathroom(s)   \n",
       "4      USD $5,600 per month  4 bedroom(s), 3 bathroom(s), 1 basement(s)   \n",
       "...                     ...                                         ...   \n",
       "3995   USD $2,050 per month                 3 bedroom(s), 2 bathroom(s)   \n",
       "3996   USD $1,300 per month                 2 bedroom(s), 1 bathroom(s)   \n",
       "3997   USD $3,499 per month                 4 bedroom(s), 3 bathroom(s)   \n",
       "3998  USD $10,900 per month                 5 bedroom(s), 7 bathroom(s)   \n",
       "3999   USD $2,300 per month                 2 bedroom(s), 2 bathroom(s)   \n",
       "\n",
       "           Type  Status  Parking Spaces    Land Size Building Size  \\\n",
       "0         House  Active             NaN          NaN     136.20 m2   \n",
       "1     Apartment  Active             NaN    161.87 m2     205.13 m2   \n",
       "2     Apartment  Active             NaN    768.90 m2           NaN   \n",
       "3     Townhouse  Active             NaN    728.43 m2     213.68 m2   \n",
       "4         House  Active             4.0    849.84 m2     266.72 m2   \n",
       "...         ...     ...             ...          ...           ...   \n",
       "3995      Other  Active             NaN    566.56 m2     175.03 m2   \n",
       "3996      Other  Active             NaN    930.78 m2     104.98 m2   \n",
       "3997      Other  Active             NaN    890.31 m2     345.79 m2   \n",
       "3998      Other  Active             NaN  1,254.53 m2     653.94 m2   \n",
       "3999      Other  Active             NaN    323.75 m2     115.85 m2   \n",
       "\n",
       "     Architecture Style        County  \\\n",
       "0                 Other        Mohave   \n",
       "1                 Other  PHILADELPHIA   \n",
       "2                 Other  PHILADELPHIA   \n",
       "3                 Other       Ventura   \n",
       "4              Colonial       FAIRFAX   \n",
       "...                 ...           ...   \n",
       "3995       Contemporary      Maricopa   \n",
       "3996              Ranch      Maricopa   \n",
       "3997       Contemporary      Maricopa   \n",
       "3998              Other      Maricopa   \n",
       "3999       Contemporary      Maricopa   \n",
       "\n",
       "                                      Provider  \n",
       "0            Black Mountain Valley Realty, Inc  \n",
       "1                                      Compass  \n",
       "2                                   OCF Realty  \n",
       "3                eXp Realty of California Inc.  \n",
       "4              Keller Williams Fairfax Gateway  \n",
       "...                                        ...  \n",
       "3995                          Realty ONE Group  \n",
       "3996         Real Living SJ Fowler Real Estate  \n",
       "3997                                 HomeSmart  \n",
       "3998  Russ Lyon Sotheby's International Realty  \n",
       "3999                     RE/MAX Alliance Group  \n",
       "\n",
       "[4000 rows x 10 columns]"
      ]
     },
     "execution_count": 4,
     "metadata": {},
     "output_type": "execute_result"
    }
   ],
   "source": [
    "df = pd.read_csv('houses.csv')\n",
    "df"
   ]
  },
  {
   "cell_type": "markdown",
   "metadata": {},
   "source": [
    "#### Standardize data ####"
   ]
  },
  {
   "cell_type": "markdown",
   "metadata": {},
   "source": [
    "Here we have columns ```Price``` , ```Building Size``` and ```Land Size``` need to be converted to float type"
   ]
  },
  {
   "cell_type": "code",
   "execution_count": 5,
   "metadata": {},
   "outputs": [],
   "source": [
    "for i in range(len(df['Price'])):\n",
    "    if df['Price'][i] != df['Price'][i]:\n",
    "        df['Price'] = df['Price'].apply(lambda x: float(x.split('$')[1].split(' ')[0].replace(',', '')) if isinstance(x, str) else x)"
   ]
  },
  {
   "cell_type": "code",
   "execution_count": 6,
   "metadata": {},
   "outputs": [],
   "source": [
    "for i in range(len(df['Building Size'])):\n",
    "    if df['Building Size'][i] != df['Building Size'][i]:\n",
    "        df['Building Size'] = df['Building Size'].apply(lambda x: float(x.split(' ')[0].replace(',', '')) if isinstance(x, str) else x)"
   ]
  },
  {
   "cell_type": "code",
   "execution_count": 7,
   "metadata": {},
   "outputs": [],
   "source": [
    "for i in range(len(df['Land Size'])):\n",
    "    if df['Land Size'][i] != df['Land Size'][i]:\n",
    "        df['Land Size'] = df['Land Size'].apply(lambda x: float(x.split(' ')[0].replace(',', '')) if isinstance(x, str) else x)"
   ]
  },
  {
   "cell_type": "markdown",
   "metadata": {},
   "source": [
    "```Rooms``` column will be converted into 3 other columns named ```Bedrooms```, ```Bathrooms``` and ```Basements```"
   ]
  },
  {
   "cell_type": "code",
   "execution_count": 8,
   "metadata": {},
   "outputs": [],
   "source": [
    "bedrooms = df['Rooms'].apply(lambda x: int(re.search(r'(\\d+) bedroom\\(s\\)', x).group(1)) if isinstance(x, str) and re.search(r'(\\d+) bedroom\\(s\\)', x) else 0)\n",
    "bathrooms = df['Rooms'].apply(lambda x: int(re.search(r'(\\d+) bathroom\\(s\\)', x).group(1)) if isinstance(x, str) and re.search(r'(\\d+) bathroom\\(s\\)', x) else 0)\n",
    "basements = df['Rooms'].apply(lambda x: int(re.search(r'(\\d+) basement\\(s\\)', x).group(1)) if isinstance(x, str) and re.search(r'(\\d+) basement\\(s\\)', x) else 0)\n",
    "\n",
    "df['Bedrooms'] = bedrooms\n",
    "df['Bathrooms'] = bathrooms\n",
    "df['Basements'] = basements\n",
    "\n",
    "df = df.drop(columns=['Rooms'])"
   ]
  },
  {
   "cell_type": "code",
   "execution_count": 9,
   "metadata": {},
   "outputs": [],
   "source": [
    "df.to_csv('test.csv')"
   ]
  },
  {
   "cell_type": "markdown",
   "metadata": {},
   "source": [
    "### 1.1. Handle Missing Data"
   ]
  },
  {
   "cell_type": "markdown",
   "metadata": {},
   "source": [
    "### 1.2. Handle Duplicate Rows"
   ]
  },
  {
   "cell_type": "markdown",
   "metadata": {},
   "source": [
    "### 1.3. Other cleaning methods:"
   ]
  },
  {
   "cell_type": "markdown",
   "metadata": {},
   "source": [
    "## 2. Features selection"
   ]
  },
  {
   "cell_type": "markdown",
   "metadata": {},
   "source": [
    "## 3. Data normalization"
   ]
  },
  {
   "cell_type": "markdown",
   "metadata": {},
   "source": [
    "# II. Exploration"
   ]
  },
  {
   "cell_type": "markdown",
   "metadata": {},
   "source": [
    "- What is the meaning of each column? <br>\n",
    "**Price:** Monthly rental price of the property in USD. <br>\n",
    "**Rooms:** Number of bedrooms and bathrooms (may include basements). <br>\n",
    "**Type:** Type of property (e.g., House, Apartment, Townhouse, etc.). <br>\n",
    "**Status:** Current status of the property (e.g., \"Active\"). <br>\n",
    "**Parking Spaces:** Number of parking spaces (can be empty if unknown). <br>\n",
    "**Land Size:** Size of the land (in m2). <br>\n",
    "**Building Size:** Size of the building (in m2). <br>\n",
    "**Architecture Style:** Style of the property’s architecture (e.g., Colonial, Contemporary, Other). <br>\n",
    "**County:** County in which the property is located. <br>\n",
    "**Provider:** Name of the real estate agency or company listing the property. <br>"
   ]
  },
  {
   "cell_type": "markdown",
   "metadata": {},
   "source": [
    "- What is the current data type of each column? Are there columns having inappropriate data types? <br>\n",
    "**Price:** float (numeric, suitable for currency). <br>\n",
    "**Rooms:** String (contains text describing rooms).\n",
    "**Type:** string (categorical). <br>\n",
    "**Status:** string (categorical). <br>\n",
    "**Parking Spaces:** float (numeric, but potentially NaN for missing data). <br>\n",
    "**Land Size:** float (numeric, but potentially NaN for missing data). <br>\n",
    "**Building Size:** float (numeric, but potentially NaN for missing data). <br>\n",
    "**Architecture Style:** string (categorical). <br>\n",
    "**County:** string (categorical). <br>\n",
    "**Provider:** string (categorical). <br>\n",
    "**Inappropriate data types:** Columns such as \"Price,\" \"Land Size,\" and \"Building Size\" need conversion to numeric types after cleaning."
   ]
  },
  {
   "cell_type": "markdown",
   "metadata": {},
   "source": [
    "- With each column, how are values distributed? <br>\n",
    "Price: Analyze distribution (e.g., histogram) to identify price ranges. <br>\n",
    "Status: All values are \"Active\", indicating no variation in this dataset for this column. <br>\n",
    "Rooms: Break down to check the distribution of room counts. \n",
    "It includes Bedrooms and Bathrooms: Ranges from 0 to 4 for bedrooms and from 1 to 3 for bathrooms, indicating a mix of studio apartments, multi-bedroom homes, and townhouses. <br>\n",
    "Type: Count frequencies of different property types. <br>\n",
    "Land Size/Building Size: Convert and visualize to understand property sizes. <br>\n",
    "Architecture Style: Includes diverse styles like Colonial and Contemporary, with many listings under \"Other\". <br>\n",
    "Provider: Multiple unique providers, with some repeating. <br>\n",
    "Basements: Mostly zeros, with only a few properties indicating the presence of a basement."
   ]
  },
  {
   "cell_type": "code",
   "execution_count": null,
   "metadata": {},
   "outputs": [],
   "source": [
    "import matplotlib.pyplot as plt\n",
    "import seaborn as sns\n",
    "numerical_columns = ['Price', 'Parking Spaces', 'Land Size', 'Building Size', 'Bedrooms', 'Bathrooms', 'Basements']\n",
    "for column in numerical_columns:\n",
    "    plt.figure(figsize=(8, 4))\n",
    "    sns.histplot(df[column], kde=True, bins=20)\n",
    "    plt.title(f'Distribution of {column}')\n",
    "    plt.xlabel(column)\n",
    "    plt.ylabel('Frequency')\n",
    "    plt.show()"
   ]
  }
 ],
 "metadata": {
  "kernelspec": {
   "display_name": "base",
   "language": "python",
   "name": "python3"
  },
  "language_info": {
   "codemirror_mode": {
    "name": "ipython",
    "version": 3
   },
   "file_extension": ".py",
   "mimetype": "text/x-python",
   "name": "python",
   "nbconvert_exporter": "python",
   "pygments_lexer": "ipython3",
   "version": "3.11.7"
  }
 },
 "nbformat": 4,
 "nbformat_minor": 2
}
