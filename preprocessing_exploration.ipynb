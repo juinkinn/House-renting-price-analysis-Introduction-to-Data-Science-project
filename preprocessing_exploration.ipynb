{
 "cells": [
  {
   "cell_type": "markdown",
   "metadata": {},
   "source": [
    "# Final Project - Introduction to Data Science"
   ]
  },
  {
   "cell_type": "markdown",
   "metadata": {},
   "source": [
    "**Team members:**\n",
    "\n",
    "1. Nguyễn Hoàng Trung Kiên (Leader) - 22127478\n",
    "\n",
    "2. Quách Trần Quán Vinh - 22127460\n",
    "\n",
    "3. Ngô Hải Bằng - 22127460"
   ]
  },
  {
   "cell_type": "markdown",
   "metadata": {},
   "source": [
    "# I. Data exploring"
   ]
  },
  {
   "cell_type": "markdown",
   "metadata": {},
   "source": [
    "### Importing libraries"
   ]
  },
  {
   "cell_type": "code",
   "execution_count": 139,
   "metadata": {},
   "outputs": [],
   "source": [
    "import pandas as pd\n",
    "import numpy as np\n",
    "import re\n",
    "import matplotlib.pyplot as plt\n",
    "import seaborn as sns\n",
    "from scipy.stats import f_oneway, pearsonr\n",
    "from sklearn.preprocessing import RobustScaler"
   ]
  },
  {
   "cell_type": "markdown",
   "metadata": {},
   "source": [
    "## 0. Read data"
   ]
  },
  {
   "cell_type": "code",
   "execution_count": 140,
   "metadata": {},
   "outputs": [
    {
     "data": {
      "text/html": [
       "<div>\n",
       "<style scoped>\n",
       "    .dataframe tbody tr th:only-of-type {\n",
       "        vertical-align: middle;\n",
       "    }\n",
       "\n",
       "    .dataframe tbody tr th {\n",
       "        vertical-align: top;\n",
       "    }\n",
       "\n",
       "    .dataframe thead th {\n",
       "        text-align: right;\n",
       "    }\n",
       "</style>\n",
       "<table border=\"1\" class=\"dataframe\">\n",
       "  <thead>\n",
       "    <tr style=\"text-align: right;\">\n",
       "      <th></th>\n",
       "      <th>Price</th>\n",
       "      <th>Rooms</th>\n",
       "      <th>Type</th>\n",
       "      <th>Status</th>\n",
       "      <th>Parking Spaces</th>\n",
       "      <th>Land Size</th>\n",
       "      <th>Building Size</th>\n",
       "      <th>Architecture Style</th>\n",
       "      <th>County</th>\n",
       "      <th>Provider</th>\n",
       "    </tr>\n",
       "  </thead>\n",
       "  <tbody>\n",
       "    <tr>\n",
       "      <th>0</th>\n",
       "      <td>USD $2,200 per month</td>\n",
       "      <td>3 bedroom(s), 2 bathroom(s)</td>\n",
       "      <td>House</td>\n",
       "      <td>Active</td>\n",
       "      <td>NaN</td>\n",
       "      <td>NaN</td>\n",
       "      <td>136.20 m2</td>\n",
       "      <td>Other</td>\n",
       "      <td>Mohave</td>\n",
       "      <td>Black Mountain Valley Realty, Inc</td>\n",
       "    </tr>\n",
       "    <tr>\n",
       "      <th>1</th>\n",
       "      <td>USD $3,000 per month</td>\n",
       "      <td>2 bedroom(s), 3 bathroom(s)</td>\n",
       "      <td>Apartment</td>\n",
       "      <td>Active</td>\n",
       "      <td>NaN</td>\n",
       "      <td>161.87 m2</td>\n",
       "      <td>205.13 m2</td>\n",
       "      <td>Other</td>\n",
       "      <td>PHILADELPHIA</td>\n",
       "      <td>Compass</td>\n",
       "    </tr>\n",
       "    <tr>\n",
       "      <th>2</th>\n",
       "      <td>USD $1,195 per month</td>\n",
       "      <td>1 bedroom(s), 1 bathroom(s)</td>\n",
       "      <td>Apartment</td>\n",
       "      <td>Active</td>\n",
       "      <td>NaN</td>\n",
       "      <td>768.90 m2</td>\n",
       "      <td>NaN</td>\n",
       "      <td>Other</td>\n",
       "      <td>PHILADELPHIA</td>\n",
       "      <td>OCF Realty</td>\n",
       "    </tr>\n",
       "    <tr>\n",
       "      <th>3</th>\n",
       "      <td>USD $8,000 per month</td>\n",
       "      <td>4 bedroom(s), 3 bathroom(s)</td>\n",
       "      <td>Townhouse</td>\n",
       "      <td>Active</td>\n",
       "      <td>NaN</td>\n",
       "      <td>728.43 m2</td>\n",
       "      <td>213.68 m2</td>\n",
       "      <td>Other</td>\n",
       "      <td>Ventura</td>\n",
       "      <td>eXp Realty of California Inc.</td>\n",
       "    </tr>\n",
       "    <tr>\n",
       "      <th>4</th>\n",
       "      <td>USD $5,600 per month</td>\n",
       "      <td>4 bedroom(s), 3 bathroom(s), 1 basement(s)</td>\n",
       "      <td>House</td>\n",
       "      <td>Active</td>\n",
       "      <td>4.0</td>\n",
       "      <td>849.84 m2</td>\n",
       "      <td>266.72 m2</td>\n",
       "      <td>Colonial</td>\n",
       "      <td>FAIRFAX</td>\n",
       "      <td>Keller Williams Fairfax Gateway</td>\n",
       "    </tr>\n",
       "    <tr>\n",
       "      <th>...</th>\n",
       "      <td>...</td>\n",
       "      <td>...</td>\n",
       "      <td>...</td>\n",
       "      <td>...</td>\n",
       "      <td>...</td>\n",
       "      <td>...</td>\n",
       "      <td>...</td>\n",
       "      <td>...</td>\n",
       "      <td>...</td>\n",
       "      <td>...</td>\n",
       "    </tr>\n",
       "    <tr>\n",
       "      <th>3995</th>\n",
       "      <td>USD $2,050 per month</td>\n",
       "      <td>3 bedroom(s), 2 bathroom(s)</td>\n",
       "      <td>Other</td>\n",
       "      <td>Active</td>\n",
       "      <td>NaN</td>\n",
       "      <td>566.56 m2</td>\n",
       "      <td>175.03 m2</td>\n",
       "      <td>Contemporary</td>\n",
       "      <td>Maricopa</td>\n",
       "      <td>Realty ONE Group</td>\n",
       "    </tr>\n",
       "    <tr>\n",
       "      <th>3996</th>\n",
       "      <td>USD $1,300 per month</td>\n",
       "      <td>2 bedroom(s), 1 bathroom(s)</td>\n",
       "      <td>Other</td>\n",
       "      <td>Active</td>\n",
       "      <td>NaN</td>\n",
       "      <td>930.78 m2</td>\n",
       "      <td>104.98 m2</td>\n",
       "      <td>Ranch</td>\n",
       "      <td>Maricopa</td>\n",
       "      <td>Real Living SJ Fowler Real Estate</td>\n",
       "    </tr>\n",
       "    <tr>\n",
       "      <th>3997</th>\n",
       "      <td>USD $3,499 per month</td>\n",
       "      <td>4 bedroom(s), 3 bathroom(s)</td>\n",
       "      <td>Other</td>\n",
       "      <td>Active</td>\n",
       "      <td>NaN</td>\n",
       "      <td>890.31 m2</td>\n",
       "      <td>345.79 m2</td>\n",
       "      <td>Contemporary</td>\n",
       "      <td>Maricopa</td>\n",
       "      <td>HomeSmart</td>\n",
       "    </tr>\n",
       "    <tr>\n",
       "      <th>3998</th>\n",
       "      <td>USD $10,900 per month</td>\n",
       "      <td>5 bedroom(s), 7 bathroom(s)</td>\n",
       "      <td>Other</td>\n",
       "      <td>Active</td>\n",
       "      <td>NaN</td>\n",
       "      <td>1,254.53 m2</td>\n",
       "      <td>653.94 m2</td>\n",
       "      <td>Other</td>\n",
       "      <td>Maricopa</td>\n",
       "      <td>Russ Lyon Sotheby's International Realty</td>\n",
       "    </tr>\n",
       "    <tr>\n",
       "      <th>3999</th>\n",
       "      <td>USD $2,300 per month</td>\n",
       "      <td>2 bedroom(s), 2 bathroom(s)</td>\n",
       "      <td>Other</td>\n",
       "      <td>Active</td>\n",
       "      <td>NaN</td>\n",
       "      <td>323.75 m2</td>\n",
       "      <td>115.85 m2</td>\n",
       "      <td>Contemporary</td>\n",
       "      <td>Maricopa</td>\n",
       "      <td>RE/MAX Alliance Group</td>\n",
       "    </tr>\n",
       "  </tbody>\n",
       "</table>\n",
       "<p>4000 rows × 10 columns</p>\n",
       "</div>"
      ],
      "text/plain": [
       "                      Price                                       Rooms  \\\n",
       "0      USD $2,200 per month                 3 bedroom(s), 2 bathroom(s)   \n",
       "1      USD $3,000 per month                 2 bedroom(s), 3 bathroom(s)   \n",
       "2      USD $1,195 per month                 1 bedroom(s), 1 bathroom(s)   \n",
       "3      USD $8,000 per month                 4 bedroom(s), 3 bathroom(s)   \n",
       "4      USD $5,600 per month  4 bedroom(s), 3 bathroom(s), 1 basement(s)   \n",
       "...                     ...                                         ...   \n",
       "3995   USD $2,050 per month                 3 bedroom(s), 2 bathroom(s)   \n",
       "3996   USD $1,300 per month                 2 bedroom(s), 1 bathroom(s)   \n",
       "3997   USD $3,499 per month                 4 bedroom(s), 3 bathroom(s)   \n",
       "3998  USD $10,900 per month                 5 bedroom(s), 7 bathroom(s)   \n",
       "3999   USD $2,300 per month                 2 bedroom(s), 2 bathroom(s)   \n",
       "\n",
       "           Type  Status  Parking Spaces    Land Size Building Size  \\\n",
       "0         House  Active             NaN          NaN     136.20 m2   \n",
       "1     Apartment  Active             NaN    161.87 m2     205.13 m2   \n",
       "2     Apartment  Active             NaN    768.90 m2           NaN   \n",
       "3     Townhouse  Active             NaN    728.43 m2     213.68 m2   \n",
       "4         House  Active             4.0    849.84 m2     266.72 m2   \n",
       "...         ...     ...             ...          ...           ...   \n",
       "3995      Other  Active             NaN    566.56 m2     175.03 m2   \n",
       "3996      Other  Active             NaN    930.78 m2     104.98 m2   \n",
       "3997      Other  Active             NaN    890.31 m2     345.79 m2   \n",
       "3998      Other  Active             NaN  1,254.53 m2     653.94 m2   \n",
       "3999      Other  Active             NaN    323.75 m2     115.85 m2   \n",
       "\n",
       "     Architecture Style        County  \\\n",
       "0                 Other        Mohave   \n",
       "1                 Other  PHILADELPHIA   \n",
       "2                 Other  PHILADELPHIA   \n",
       "3                 Other       Ventura   \n",
       "4              Colonial       FAIRFAX   \n",
       "...                 ...           ...   \n",
       "3995       Contemporary      Maricopa   \n",
       "3996              Ranch      Maricopa   \n",
       "3997       Contemporary      Maricopa   \n",
       "3998              Other      Maricopa   \n",
       "3999       Contemporary      Maricopa   \n",
       "\n",
       "                                      Provider  \n",
       "0            Black Mountain Valley Realty, Inc  \n",
       "1                                      Compass  \n",
       "2                                   OCF Realty  \n",
       "3                eXp Realty of California Inc.  \n",
       "4              Keller Williams Fairfax Gateway  \n",
       "...                                        ...  \n",
       "3995                          Realty ONE Group  \n",
       "3996         Real Living SJ Fowler Real Estate  \n",
       "3997                                 HomeSmart  \n",
       "3998  Russ Lyon Sotheby's International Realty  \n",
       "3999                     RE/MAX Alliance Group  \n",
       "\n",
       "[4000 rows x 10 columns]"
      ]
     },
     "execution_count": 140,
     "metadata": {},
     "output_type": "execute_result"
    }
   ],
   "source": [
    "df = pd.read_csv('houses.csv')\n",
    "df"
   ]
  },
  {
   "cell_type": "markdown",
   "metadata": {},
   "source": [
    "## 1. Meaning of columns/rows\n",
    "Each row corresponds to a house with the following features:\n",
    "- **Price:** Monthly rental price of the property in USD.\n",
    "- **Rooms:** Number of bedrooms and bathrooms (may include basements).\n",
    "- **Type:** Type of property (e.g., House, Apartment, Townhouse, etc.).\n",
    "- **Status:** Current status of the property (e.g., \"Active\").\n",
    "- **Parking Spaces:** Number of parking spaces (can be empty if unknown).\n",
    "- **Land Size:** Size of the land (in $m^2$).\n",
    "- **Building Size:** Size of the building (in $m^2$).\n",
    "- **Architecture Style:** Style of the property’s architecture (e.g., Colonial, Contemporary, Other).\n",
    "- **County:** County in which the property is located.\n",
    "- **Provider:** Name of the real estate agency or company listing the property.\n"
   ]
  },
  {
   "cell_type": "markdown",
   "metadata": {},
   "source": [
    "##  2. Data conversion\n",
    "What is the current data type of each column? Are there columns having inappropriate data types?"
   ]
  },
  {
   "cell_type": "code",
   "execution_count": 141,
   "metadata": {},
   "outputs": [
    {
     "data": {
      "text/plain": [
       "Price                  object\n",
       "Rooms                  object\n",
       "Type                   object\n",
       "Status                 object\n",
       "Parking Spaces        float64\n",
       "Land Size              object\n",
       "Building Size          object\n",
       "Architecture Style     object\n",
       "County                 object\n",
       "Provider               object\n",
       "dtype: object"
      ]
     },
     "execution_count": 141,
     "metadata": {},
     "output_type": "execute_result"
    }
   ],
   "source": [
    "df.dtypes"
   ]
  },
  {
   "cell_type": "markdown",
   "metadata": {},
   "source": [
    "As we can see, there are some inappropriate type for some features.\n",
    "\n",
    "- First, `Price`, `Building Size` and `Land Size` are currently in string type, so we need to convert them to float."
   ]
  },
  {
   "cell_type": "code",
   "execution_count": 142,
   "metadata": {},
   "outputs": [],
   "source": [
    "for i in range(len(df['Price'])):\n",
    "    if df['Price'][i] != df['Price'][i]:\n",
    "        df['Price'] = df['Price'].apply(lambda x: float(x.split('$')[1].split(' ')[0].replace(',', '')) if isinstance(x, str) else x)"
   ]
  },
  {
   "cell_type": "code",
   "execution_count": 143,
   "metadata": {},
   "outputs": [],
   "source": [
    "for i in range(len(df['Building Size'])):\n",
    "    if df['Building Size'][i] != df['Building Size'][i]:\n",
    "        df['Building Size'] = df['Building Size'].apply(lambda x: float(x.split(' ')[0].replace(',', '')) if isinstance(x, str) else x)"
   ]
  },
  {
   "cell_type": "code",
   "execution_count": 144,
   "metadata": {},
   "outputs": [],
   "source": [
    "for i in range(len(df['Land Size'])):\n",
    "    if df['Land Size'][i] != df['Land Size'][i]:\n",
    "        df['Land Size'] = df['Land Size'].apply(lambda x: float(x.split(' ')[0].replace(',', '')) if isinstance(x, str) else x)"
   ]
  },
  {
   "cell_type": "markdown",
   "metadata": {},
   "source": [
    "- Then, `Rooms` has to be splitted into 3 columns namely `Bedrooms`, `Bathrooms`, `Livingrooms` and `Basements`"
   ]
  },
  {
   "cell_type": "code",
   "execution_count": 145,
   "metadata": {},
   "outputs": [],
   "source": [
    "bedrooms = df['Rooms'].apply(lambda x: int(re.search(r'(\\d+) bedroom\\(s\\)', x).group(1)) if isinstance(x, str) and re.search(r'(\\d+) bedroom\\(s\\)', x) else np.nan)\n",
    "bathrooms = df['Rooms'].apply(lambda x: int(re.search(r'(\\d+) bathroom\\(s\\)', x).group(1)) if isinstance(x, str) and re.search(r'(\\d+) bathroom\\(s\\)', x) else np.nan)\n",
    "livingrooms = df['Rooms'].apply(lambda x: int(re.search(r'(\\d+) livingroom\\(s\\)', x).group(1)) if isinstance(x, str) and re.search(r'(\\d+) livingroom\\(s\\)', x) else np.nan)\n",
    "basements = df['Rooms'].apply(lambda x: int(re.search(r'(\\d+) basement\\(s\\)', x).group(1)) if isinstance(x, str) and re.search(r'(\\d+) basement\\(s\\)', x) else np.nan)\n",
    "\n",
    "df['Bedrooms'] = bedrooms\n",
    "df['Bathrooms'] = bathrooms\n",
    "df['Livingrooms'] = livingrooms\n",
    "df['Basements'] = basements\n",
    "\n",
    "df = df.drop(columns=['Rooms'])"
   ]
  },
  {
   "cell_type": "markdown",
   "metadata": {},
   "source": [
    "# II. Data preprocessing\n",
    "## 1. Data cleaning\n",
    "### 1.1. Handle missing data"
   ]
  },
  {
   "cell_type": "markdown",
   "metadata": {},
   "source": [
    "Is there any missing data in the dataset? If yes, is there any features has over 50% of missing values so that we should remove that features from the dataset?"
   ]
  },
  {
   "cell_type": "code",
   "execution_count": 146,
   "metadata": {},
   "outputs": [
    {
     "data": {
      "text/html": [
       "<div>\n",
       "<style scoped>\n",
       "    .dataframe tbody tr th:only-of-type {\n",
       "        vertical-align: middle;\n",
       "    }\n",
       "\n",
       "    .dataframe tbody tr th {\n",
       "        vertical-align: top;\n",
       "    }\n",
       "\n",
       "    .dataframe thead th {\n",
       "        text-align: right;\n",
       "    }\n",
       "</style>\n",
       "<table border=\"1\" class=\"dataframe\">\n",
       "  <thead>\n",
       "    <tr style=\"text-align: right;\">\n",
       "      <th></th>\n",
       "      <th>Total</th>\n",
       "      <th>Percentage</th>\n",
       "    </tr>\n",
       "  </thead>\n",
       "  <tbody>\n",
       "    <tr>\n",
       "      <th>Basements</th>\n",
       "      <td>3695</td>\n",
       "      <td>0.92375</td>\n",
       "    </tr>\n",
       "    <tr>\n",
       "      <th>Livingrooms</th>\n",
       "      <td>3440</td>\n",
       "      <td>0.86000</td>\n",
       "    </tr>\n",
       "    <tr>\n",
       "      <th>Parking Spaces</th>\n",
       "      <td>2787</td>\n",
       "      <td>0.69675</td>\n",
       "    </tr>\n",
       "    <tr>\n",
       "      <th>Land Size</th>\n",
       "      <td>1576</td>\n",
       "      <td>0.39400</td>\n",
       "    </tr>\n",
       "    <tr>\n",
       "      <th>Building Size</th>\n",
       "      <td>421</td>\n",
       "      <td>0.10525</td>\n",
       "    </tr>\n",
       "    <tr>\n",
       "      <th>Bedrooms</th>\n",
       "      <td>321</td>\n",
       "      <td>0.08025</td>\n",
       "    </tr>\n",
       "    <tr>\n",
       "      <th>Bathrooms</th>\n",
       "      <td>223</td>\n",
       "      <td>0.05575</td>\n",
       "    </tr>\n",
       "    <tr>\n",
       "      <th>Provider</th>\n",
       "      <td>221</td>\n",
       "      <td>0.05525</td>\n",
       "    </tr>\n",
       "    <tr>\n",
       "      <th>County</th>\n",
       "      <td>164</td>\n",
       "      <td>0.04100</td>\n",
       "    </tr>\n",
       "    <tr>\n",
       "      <th>Price</th>\n",
       "      <td>22</td>\n",
       "      <td>0.00550</td>\n",
       "    </tr>\n",
       "    <tr>\n",
       "      <th>Status</th>\n",
       "      <td>6</td>\n",
       "      <td>0.00150</td>\n",
       "    </tr>\n",
       "    <tr>\n",
       "      <th>Type</th>\n",
       "      <td>6</td>\n",
       "      <td>0.00150</td>\n",
       "    </tr>\n",
       "    <tr>\n",
       "      <th>Architecture Style</th>\n",
       "      <td>6</td>\n",
       "      <td>0.00150</td>\n",
       "    </tr>\n",
       "  </tbody>\n",
       "</table>\n",
       "</div>"
      ],
      "text/plain": [
       "                    Total  Percentage\n",
       "Basements            3695     0.92375\n",
       "Livingrooms          3440     0.86000\n",
       "Parking Spaces       2787     0.69675\n",
       "Land Size            1576     0.39400\n",
       "Building Size         421     0.10525\n",
       "Bedrooms              321     0.08025\n",
       "Bathrooms             223     0.05575\n",
       "Provider              221     0.05525\n",
       "County                164     0.04100\n",
       "Price                  22     0.00550\n",
       "Status                  6     0.00150\n",
       "Type                    6     0.00150\n",
       "Architecture Style      6     0.00150"
      ]
     },
     "execution_count": 146,
     "metadata": {},
     "output_type": "execute_result"
    },
    {
     "data": {
      "image/png": "[encoded data removed]",
      "text/plain": [
       "<Figure size 1200x600 with 1 Axes>"
      ]
     },
     "metadata": {},
     "output_type": "display_data"
    }
   ],
   "source": [
    "total = df.isna().sum().sort_values(ascending=False)\n",
    "percentage = (df.isna().sum()/df.isna().count()).sort_values(ascending=False)\n",
    "missing_data = pd.concat([total, percentage], axis=1, keys=['Total', 'Percentage'])\n",
    "\n",
    "f = plt.figure(figsize=(12, 6))\n",
    "sns.barplot(x=missing_data.index, y=missing_data['Percentage'], color='orange')\n",
    "plt.xlabel('Features')\n",
    "plt.ylabel('Percentage of missing values')\n",
    "plt.title('Percentage of missing data by feature')\n",
    "plt.xticks(rotation=45)\n",
    "\n",
    "missing_data"
   ]
  },
  {
   "cell_type": "markdown",
   "metadata": {},
   "source": [
    "As we can see, the percentages of missing values of `Parking Spaces`, `Livingrooms` and `Basements` are greater than 50%, so we should remove these feature."
   ]
  },
  {
   "cell_type": "code",
   "execution_count": 147,
   "metadata": {},
   "outputs": [],
   "source": [
    "df.drop(columns=['Parking Spaces', 'Livingrooms', 'Basements'], inplace=True)"
   ]
  },
  {
   "cell_type": "markdown",
   "metadata": {},
   "source": [
    "Since `Price` column is the target, we will remove the records that misses `Price` value."
   ]
  },
  {
   "cell_type": "code",
   "execution_count": 148,
   "metadata": {},
   "outputs": [],
   "source": [
    "df.dropna(subset=['Price'], inplace=True)"
   ]
  },
  {
   "cell_type": "markdown",
   "metadata": {},
   "source": [
    "Before filling the missing values, we observe the numeric features distribution to choose the appropriate methods for that features."
   ]
  },
  {
   "cell_type": "code",
   "execution_count": 149,
   "metadata": {},
   "outputs": [
    {
     "data": {
      "image/png": "[encoded data removed]",
      "text/plain": [
       "<Figure size 1800x1000 with 4 Axes>"
      ]
     },
     "metadata": {},
     "output_type": "display_data"
    }
   ],
   "source": [
    "fig, axes = plt.subplots(nrows=2, ncols=2,figsize=(18, 10))\n",
    "sns.histplot(x=df['Land Size'], ax=axes[0, 0], kde=True, bins=20, color='blue')\n",
    "sns.histplot(x=df['Building Size'], ax=axes[0, 1], kde=True, bins=20, color='orange')\n",
    "sns.histplot(x=df['Bedrooms'], ax=axes[1, 0], kde=True, bins=20, color='purple')\n",
    "sns.histplot(x=df['Bathrooms'], ax=axes[1, 1], kde=True, bins=20, color='cyan')\n",
    "plt.tight_layout()\n",
    "plt.show()"
   ]
  },
  {
   "cell_type": "markdown",
   "metadata": {},
   "source": [
    "- At first glance, all the features are left-skewed distributions. Therefore, we fill those numeric missing values with median.\n",
    "- As for categorical missing values we fill with mode."
   ]
  },
  {
   "cell_type": "code",
   "execution_count": 150,
   "metadata": {},
   "outputs": [],
   "source": [
    "numerics = ['Land Size', 'Building Size', 'Bedrooms', 'Bathrooms']\n",
    "cates = ['Provider', 'County', 'Status', 'Type', 'Architecture Style']\n",
    "\n",
    "for numeric in numerics:\n",
    "    if 'rooms' in numeric:\n",
    "        df[numeric] = df[numeric].fillna(int(df[numeric].median()))\n",
    "    else: \n",
    "        df[numeric] = df[numeric].fillna(df[numeric].median())\n",
    "    \n",
    "for cate in cates:\n",
    "    df[cate] = df[cate].fillna(df[cate].mode()[0])\n",
    "\n",
    "# df.dropna(axis=0, inplace=True)\n",
    "df.reset_index(drop=True, inplace=True)"
   ]
  },
  {
   "cell_type": "code",
   "execution_count": 151,
   "metadata": {},
   "outputs": [
    {
     "name": "stdout",
     "output_type": "stream",
     "text": [
      "<class 'pandas.core.frame.DataFrame'>\n",
      "RangeIndex: 3978 entries, 0 to 3977\n",
      "Data columns (total 10 columns):\n",
      " #   Column              Non-Null Count  Dtype  \n",
      "---  ------              --------------  -----  \n",
      " 0   Price               3978 non-null   float64\n",
      " 1   Type                3978 non-null   object \n",
      " 2   Status              3978 non-null   object \n",
      " 3   Land Size           3978 non-null   float64\n",
      " 4   Building Size       3978 non-null   float64\n",
      " 5   Architecture Style  3978 non-null   object \n",
      " 6   County              3978 non-null   object \n",
      " 7   Provider            3978 non-null   object \n",
      " 8   Bedrooms            3978 non-null   float64\n",
      " 9   Bathrooms           3978 non-null   float64\n",
      "dtypes: float64(5), object(5)\n",
      "memory usage: 310.9+ KB\n"
     ]
    }
   ],
   "source": [
    "df.info()"
   ]
  },
  {
   "cell_type": "markdown",
   "metadata": {},
   "source": [
    "Finally, there is no more missing values."
   ]
  },
  {
   "cell_type": "markdown",
   "metadata": {},
   "source": [
    "### 1.2. Handle Duplicate Rows\n",
    "Is there any duplicated rows (same features)? If yes, remove those rows."
   ]
  },
  {
   "cell_type": "code",
   "execution_count": 152,
   "metadata": {},
   "outputs": [
    {
     "data": {
      "text/plain": [
       "np.int64(206)"
      ]
     },
     "execution_count": 152,
     "metadata": {},
     "output_type": "execute_result"
    }
   ],
   "source": [
    "df.duplicated(df.columns.difference(['Price'])).sum()"
   ]
  },
  {
   "cell_type": "code",
   "execution_count": 153,
   "metadata": {},
   "outputs": [],
   "source": [
    "df.drop_duplicates(df.columns.difference(['Price']), keep='first', inplace=True)\n",
    "df.reset_index(drop=True, inplace=True)"
   ]
  },
  {
   "cell_type": "markdown",
   "metadata": {},
   "source": [
    "Extract data for making meaningful questions later."
   ]
  },
  {
   "cell_type": "code",
   "execution_count": 154,
   "metadata": {},
   "outputs": [],
   "source": [
    "df.to_csv('houses_for_exploring.csv', index=False)"
   ]
  },
  {
   "cell_type": "markdown",
   "metadata": {},
   "source": [
    "## 2. Features selection"
   ]
  },
  {
   "cell_type": "markdown",
   "metadata": {},
   "source": [
    "Since there are continuous and categorical features in this dataset, we will use 2 techniques for features selection:\n",
    "- **Pearson Correlation** for numeric features and numeric target (`Price`)."
   ]
  },
  {
   "cell_type": "code",
   "execution_count": 155,
   "metadata": {},
   "outputs": [
    {
     "data": {
      "text/plain": [
       "{'Land Size': np.float64(-0.0012139677547871532),\n",
       " 'Building Size': np.float64(0.04447160059786096),\n",
       " 'Bedrooms': np.float64(0.09509681956396887),\n",
       " 'Bathrooms': np.float64(0.09158559507802336)}"
      ]
     },
     "execution_count": 155,
     "metadata": {},
     "output_type": "execute_result"
    }
   ],
   "source": [
    "target = df['Price']\n",
    "\n",
    "corr_coeff = {}\n",
    "\n",
    "for numeric in numerics:\n",
    "    corr, _ = pearsonr(df[numeric], target)\n",
    "    corr_coeff[numeric] = corr\n",
    "    \n",
    "corr_coeff"
   ]
  },
  {
   "cell_type": "markdown",
   "metadata": {},
   "source": [
    "- To remove redundant features, we will remove those insignificant features to the target (correlation is nearly 0).  \n",
    "- As we can see, `Land Size` is insignificant feature to the target, because its correlation with the target is nearly 0. "
   ]
  },
  {
   "cell_type": "code",
   "execution_count": 156,
   "metadata": {},
   "outputs": [],
   "source": [
    "df.drop(columns=['Land Size'], inplace=True)"
   ]
  },
  {
   "cell_type": "markdown",
   "metadata": {},
   "source": [
    "- **ANOVA test** for categorical features and numeric target (`Price`)."
   ]
  },
  {
   "cell_type": "code",
   "execution_count": 157,
   "metadata": {},
   "outputs": [
    {
     "data": {
      "text/plain": [
       "{'Provider': F_onewayResult(statistic=np.float64(2.312323396096791), pvalue=np.float64(9.096731830146082e-72)),\n",
       " 'County': F_onewayResult(statistic=np.float64(5.9633224505210976), pvalue=np.float64(3.832088577257428e-215)),\n",
       " 'Status': F_onewayResult(statistic=np.float64(0.06779100279672635), pvalue=np.float64(0.7945948730860459)),\n",
       " 'Type': F_onewayResult(statistic=np.float64(4.378687087686912), pvalue=np.float64(0.0005618750325630623)),\n",
       " 'Architecture Style': F_onewayResult(statistic=np.float64(0.20651695041207754), pvalue=np.float64(0.9999881728166081))}"
      ]
     },
     "execution_count": 157,
     "metadata": {},
     "output_type": "execute_result"
    }
   ],
   "source": [
    "anova_scores = {}\n",
    "\n",
    "for cate in cates:\n",
    "    groups = [target[df[cate] == category] for category in df[cate].unique()]\n",
    "    \n",
    "    anova_scores[cate] = f_oneway(*groups)\n",
    "    \n",
    "anova_scores"
   ]
  },
  {
   "cell_type": "markdown",
   "metadata": {},
   "source": [
    "- To remove redundant features, we will remove those insignificant features to the target (p-value > $0.05$).  \n",
    "- As we can see, `Status` and `Architecture Style` are insignificant features to the target, because those p-values are greater than $0.05$. "
   ]
  },
  {
   "cell_type": "code",
   "execution_count": 158,
   "metadata": {},
   "outputs": [],
   "source": [
    "df.drop(columns=['Status', 'Architecture Style'], inplace=True)"
   ]
  },
  {
   "cell_type": "markdown",
   "metadata": {},
   "source": [
    "## 3. Data normalization"
   ]
  },
  {
   "cell_type": "markdown",
   "metadata": {},
   "source": [
    "There are some numeric columns that have different scale, so normalization is necessary."
   ]
  },
  {
   "cell_type": "markdown",
   "metadata": {},
   "source": [
    "- We use **Robust scaling** for normalization. Since the numeric columns are heavily left-skewed with outliers (as observation above), **Robust scaling** is the best choice."
   ]
  },
  {
   "cell_type": "code",
   "execution_count": 159,
   "metadata": {},
   "outputs": [],
   "source": [
    "numerics = ['Building Size', 'Bedrooms', 'Bathrooms']\n",
    "scaler = RobustScaler()\n",
    "df[numerics] = scaler.fit_transform(df[numerics])"
   ]
  },
  {
   "cell_type": "markdown",
   "metadata": {},
   "source": [
    "## 4. Encode categorical columns"
   ]
  },
  {
   "cell_type": "markdown",
   "metadata": {},
   "source": [
    "First, we check how many distinct values are there in each columns to decide which methods of encoding is suitable."
   ]
  },
  {
   "cell_type": "code",
   "execution_count": 160,
   "metadata": {},
   "outputs": [
    {
     "name": "stdout",
     "output_type": "stream",
     "text": [
      "Column 'Provider' has 1933 values\n",
      "Column 'County' has 472 values\n",
      "Column 'Type' has 6 values\n"
     ]
    }
   ],
   "source": [
    "cates = ['Provider', 'County', 'Type']\n",
    "distinct_values = {col: df[col].unique() for col in cates}  \n",
    "for col, values in distinct_values.items():\n",
    "    print(f\"Column '{col}' has {len(values)} values\")"
   ]
  },
  {
   "cell_type": "markdown",
   "metadata": {},
   "source": [
    "- So each categorical column has high distinct values.\n",
    "- Using **One-hot encoding** will be less effective. Instead, we will use **Mean encoding** that will encode each category based on the mean of the target variable. This approach helps reduce the dimensionality of the data while still retaining information about the relationship between the categorical variable and the target."
   ]
  },
  {
   "cell_type": "code",
   "execution_count": 161,
   "metadata": {},
   "outputs": [],
   "source": [
    "target = 'Price'  \n",
    "encoded_cols = {}\n",
    "for col in ['Provider', 'County', 'Type']:  \n",
    "    category_means = df.groupby(col)[target].mean()\n",
    "    encoded_cols[col] = df[col].map(category_means).fillna(df[target].mean())\n",
    "    \n",
    "for col, encoded_values in encoded_cols.items():\n",
    "    df[col] = encoded_values"
   ]
  },
  {
   "cell_type": "code",
   "execution_count": 162,
   "metadata": {},
   "outputs": [
    {
     "data": {
      "text/html": [
       "<div>\n",
       "<style scoped>\n",
       "    .dataframe tbody tr th:only-of-type {\n",
       "        vertical-align: middle;\n",
       "    }\n",
       "\n",
       "    .dataframe tbody tr th {\n",
       "        vertical-align: top;\n",
       "    }\n",
       "\n",
       "    .dataframe thead th {\n",
       "        text-align: right;\n",
       "    }\n",
       "</style>\n",
       "<table border=\"1\" class=\"dataframe\">\n",
       "  <thead>\n",
       "    <tr style=\"text-align: right;\">\n",
       "      <th></th>\n",
       "      <th>Price</th>\n",
       "      <th>Type</th>\n",
       "      <th>Building Size</th>\n",
       "      <th>County</th>\n",
       "      <th>Provider</th>\n",
       "      <th>Bedrooms</th>\n",
       "      <th>Bathrooms</th>\n",
       "    </tr>\n",
       "  </thead>\n",
       "  <tbody>\n",
       "    <tr>\n",
       "      <th>0</th>\n",
       "      <td>2200.0</td>\n",
       "      <td>3895.576094</td>\n",
       "      <td>0.041749</td>\n",
       "      <td>1792.000000</td>\n",
       "      <td>2200.000000</td>\n",
       "      <td>0.0</td>\n",
       "      <td>0.0</td>\n",
       "    </tr>\n",
       "    <tr>\n",
       "      <th>1</th>\n",
       "      <td>3000.0</td>\n",
       "      <td>2616.219081</td>\n",
       "      <td>0.952438</td>\n",
       "      <td>4781.123016</td>\n",
       "      <td>4021.484848</td>\n",
       "      <td>-1.0</td>\n",
       "      <td>1.0</td>\n",
       "    </tr>\n",
       "    <tr>\n",
       "      <th>2</th>\n",
       "      <td>1195.0</td>\n",
       "      <td>2616.219081</td>\n",
       "      <td>0.000000</td>\n",
       "      <td>4781.123016</td>\n",
       "      <td>2052.500000</td>\n",
       "      <td>-2.0</td>\n",
       "      <td>-1.0</td>\n",
       "    </tr>\n",
       "    <tr>\n",
       "      <th>3</th>\n",
       "      <td>8000.0</td>\n",
       "      <td>2525.646360</td>\n",
       "      <td>1.065398</td>\n",
       "      <td>5273.750000</td>\n",
       "      <td>5783.333333</td>\n",
       "      <td>1.0</td>\n",
       "      <td>1.0</td>\n",
       "    </tr>\n",
       "    <tr>\n",
       "      <th>4</th>\n",
       "      <td>5600.0</td>\n",
       "      <td>3895.576094</td>\n",
       "      <td>1.766151</td>\n",
       "      <td>2999.114286</td>\n",
       "      <td>3600.000000</td>\n",
       "      <td>1.0</td>\n",
       "      <td>1.0</td>\n",
       "    </tr>\n",
       "    <tr>\n",
       "      <th>...</th>\n",
       "      <td>...</td>\n",
       "      <td>...</td>\n",
       "      <td>...</td>\n",
       "      <td>...</td>\n",
       "      <td>...</td>\n",
       "      <td>...</td>\n",
       "      <td>...</td>\n",
       "    </tr>\n",
       "    <tr>\n",
       "      <th>3767</th>\n",
       "      <td>2050.0</td>\n",
       "      <td>6303.178457</td>\n",
       "      <td>0.554763</td>\n",
       "      <td>3166.632184</td>\n",
       "      <td>2111.250000</td>\n",
       "      <td>0.0</td>\n",
       "      <td>0.0</td>\n",
       "    </tr>\n",
       "    <tr>\n",
       "      <th>3768</th>\n",
       "      <td>1300.0</td>\n",
       "      <td>6303.178457</td>\n",
       "      <td>-0.370723</td>\n",
       "      <td>3166.632184</td>\n",
       "      <td>1425.000000</td>\n",
       "      <td>-1.0</td>\n",
       "      <td>-1.0</td>\n",
       "    </tr>\n",
       "    <tr>\n",
       "      <th>3769</th>\n",
       "      <td>3499.0</td>\n",
       "      <td>6303.178457</td>\n",
       "      <td>2.810807</td>\n",
       "      <td>3166.632184</td>\n",
       "      <td>4402.125000</td>\n",
       "      <td>1.0</td>\n",
       "      <td>1.0</td>\n",
       "    </tr>\n",
       "    <tr>\n",
       "      <th>3770</th>\n",
       "      <td>10900.0</td>\n",
       "      <td>6303.178457</td>\n",
       "      <td>6.882019</td>\n",
       "      <td>3166.632184</td>\n",
       "      <td>5450.000000</td>\n",
       "      <td>2.0</td>\n",
       "      <td>5.0</td>\n",
       "    </tr>\n",
       "    <tr>\n",
       "      <th>3771</th>\n",
       "      <td>2300.0</td>\n",
       "      <td>6303.178457</td>\n",
       "      <td>-0.227111</td>\n",
       "      <td>3166.632184</td>\n",
       "      <td>3825.000000</td>\n",
       "      <td>-1.0</td>\n",
       "      <td>0.0</td>\n",
       "    </tr>\n",
       "  </tbody>\n",
       "</table>\n",
       "<p>3772 rows × 7 columns</p>\n",
       "</div>"
      ],
      "text/plain": [
       "        Price         Type  Building Size       County     Provider  Bedrooms  \\\n",
       "0      2200.0  3895.576094       0.041749  1792.000000  2200.000000       0.0   \n",
       "1      3000.0  2616.219081       0.952438  4781.123016  4021.484848      -1.0   \n",
       "2      1195.0  2616.219081       0.000000  4781.123016  2052.500000      -2.0   \n",
       "3      8000.0  2525.646360       1.065398  5273.750000  5783.333333       1.0   \n",
       "4      5600.0  3895.576094       1.766151  2999.114286  3600.000000       1.0   \n",
       "...       ...          ...            ...          ...          ...       ...   \n",
       "3767   2050.0  6303.178457       0.554763  3166.632184  2111.250000       0.0   \n",
       "3768   1300.0  6303.178457      -0.370723  3166.632184  1425.000000      -1.0   \n",
       "3769   3499.0  6303.178457       2.810807  3166.632184  4402.125000       1.0   \n",
       "3770  10900.0  6303.178457       6.882019  3166.632184  5450.000000       2.0   \n",
       "3771   2300.0  6303.178457      -0.227111  3166.632184  3825.000000      -1.0   \n",
       "\n",
       "      Bathrooms  \n",
       "0           0.0  \n",
       "1           1.0  \n",
       "2          -1.0  \n",
       "3           1.0  \n",
       "4           1.0  \n",
       "...         ...  \n",
       "3767        0.0  \n",
       "3768       -1.0  \n",
       "3769        1.0  \n",
       "3770        5.0  \n",
       "3771        0.0  \n",
       "\n",
       "[3772 rows x 7 columns]"
      ]
     },
     "execution_count": 162,
     "metadata": {},
     "output_type": "execute_result"
    }
   ],
   "source": [
    "df"
   ]
  },
  {
   "cell_type": "markdown",
   "metadata": {},
   "source": [
    "Save the modified dataset to `.csv` file."
   ]
  },
  {
   "cell_type": "code",
   "execution_count": 163,
   "metadata": {},
   "outputs": [],
   "source": [
    "df.to_csv('houses_after_preprocessing.csv', index=False)"
   ]
  }
 ],
 "metadata": {
  "kernelspec": {
   "display_name": "Python 3",
   "language": "python",
   "name": "python3"
  },
  "language_info": {
   "codemirror_mode": {
    "name": "ipython",
    "version": 3
   },
   "file_extension": ".py",
   "mimetype": "text/x-python",
   "name": "python",
   "nbconvert_exporter": "python",
   "pygments_lexer": "ipython3",
   "version": "3.11.9"
  }
 },
 "nbformat": 4,
 "nbformat_minor": 2
}
