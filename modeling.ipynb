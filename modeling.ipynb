{
 "cells": [
  {
   "cell_type": "markdown",
   "metadata": {},
   "source": [
    "# Final Project - Introduction to Data Science"
   ]
  },
  {
   "cell_type": "markdown",
   "metadata": {},
   "source": [
    "**Team members:**\n",
    "\n",
    "1. Nguyễn Hoàng Trung Kiên (Leader) - 22127478\n",
    "\n",
    "2. Quách Trần Quán Vinh - 22127460\n",
    "\n",
    "3. Ngô Hải Bằng - 22127460"
   ]
  },
  {
   "cell_type": "markdown",
   "metadata": {},
   "source": [
    "## 0. Prerequisites"
   ]
  },
  {
   "cell_type": "markdown",
   "metadata": {},
   "source": [
    "### Import libraries"
   ]
  },
  {
   "cell_type": "code",
   "execution_count": 10,
   "metadata": {},
   "outputs": [],
   "source": [
    "import pandas as pd\n",
    "import seaborn as sns\n",
    "from sklearn.model_selection import train_test_split, GridSearchCV\n",
    "from sklearn.linear_model import LinearRegression, Lasso\n",
    "from sklearn.metrics import mean_squared_error, root_mean_squared_error\n",
    "from sklearn.ensemble import RandomForestRegressor\n",
    "from sklearn.svm import SVR\n",
    "from sklearn.neural_network import MLPRegressor"
   ]
  },
  {
   "cell_type": "markdown",
   "metadata": {},
   "source": [
    "### Read data"
   ]
  },
  {
   "cell_type": "code",
   "execution_count": 11,
   "metadata": {},
   "outputs": [],
   "source": [
    "X = pd.read_csv('houses_after_preprocessing.csv')\n",
    "y = X['Price']\n",
    "X = X.drop(columns=['Price'])"
   ]
  },
  {
   "cell_type": "markdown",
   "metadata": {},
   "source": [
    "### Split data into train test set"
   ]
  },
  {
   "cell_type": "code",
   "execution_count": 12,
   "metadata": {},
   "outputs": [],
   "source": [
    "X_train, X_test, y_train, y_test = train_test_split(X, y, test_size=0.3, random_state=42)"
   ]
  },
  {
   "cell_type": "markdown",
   "metadata": {},
   "source": [
    "## 1. Data modeling"
   ]
  },
  {
   "cell_type": "markdown",
   "metadata": {},
   "source": [
    "In this project, we decided to benchmark 5 following regression models:\n",
    "- **Linear Regression**\n",
    "- **Lasso Regression**\n",
    "- **Support Vector Regression**\n",
    "- **Random Forest Regressor**\n",
    "- **Multilayer Perception**"
   ]
  },
  {
   "cell_type": "code",
   "execution_count": 13,
   "metadata": {},
   "outputs": [],
   "source": [
    "metrics = {}\n",
    "models = {}"
   ]
  },
  {
   "cell_type": "markdown",
   "metadata": {},
   "source": [
    "### 1.1. Linear Regression"
   ]
  },
  {
   "cell_type": "code",
   "execution_count": 14,
   "metadata": {},
   "outputs": [],
   "source": [
    "models['Linear Regression'] = LinearRegression()\n",
    "models['Linear Regression'].fit(X_train, y_train)\n",
    "y_pred = models['Linear Regression'].predict(X_test)\n",
    "\n",
    "metrics['Linear Regression'] = (mean_squared_error(y_test, y_pred), root_mean_squared_error(y_test, y_pred))"
   ]
  },
  {
   "cell_type": "markdown",
   "metadata": {},
   "source": [
    "### 1.2. Lasso Regression"
   ]
  },
  {
   "cell_type": "code",
   "execution_count": 15,
   "metadata": {},
   "outputs": [
    {
     "name": "stdout",
     "output_type": "stream",
     "text": [
      "Lasso best params: {'alpha': 100}\n"
     ]
    }
   ],
   "source": [
    "params = {\n",
    "    'alpha': [0.01, 0.1, 1, 10, 100]\n",
    "}\n",
    "\n",
    "lasso = Lasso(max_iter=10000)\n",
    "grid_lasso = GridSearchCV(lasso, param_grid=params, cv=5, scoring='neg_mean_squared_error', n_jobs=-1)\n",
    "grid_lasso.fit(X_train, y_train)\n",
    "\n",
    "models['Lasso'] = grid_lasso.best_estimator_\n",
    "y_pred = models['Lasso'].predict(X_test)\n",
    "metrics['Lasso'] = (mean_squared_error(y_test, y_pred), root_mean_squared_error(y_test, y_pred))\n",
    "\n",
    "print('Lasso best params:', grid_lasso.best_params_)"
   ]
  },
  {
   "cell_type": "markdown",
   "metadata": {},
   "source": [
    "### 1.3. Support Vector Regression"
   ]
  },
  {
   "cell_type": "code",
   "execution_count": 16,
   "metadata": {},
   "outputs": [
    {
     "name": "stdout",
     "output_type": "stream",
     "text": [
      "SVR best params: {'C': 100, 'epsilon': 0.2, 'kernel': 'linear'}\n"
     ]
    }
   ],
   "source": [
    "params = {\n",
    "    'C': [0.1, 1, 10, 100],\n",
    "    'epsilon': [0.1, 0.2, 0.5],\n",
    "    'kernel': ['linear', 'rbf', 'poly', 'sigmoid']\n",
    "}\n",
    "\n",
    "svr = SVR()\n",
    "grid_svr = GridSearchCV(svr, param_grid=params, cv=5, scoring='neg_mean_squared_error', n_jobs=-1)\n",
    "grid_svr.fit(X_train, y_train)\n",
    "\n",
    "models['SVR'] = grid_svr.best_estimator_\n",
    "y_pred = models['SVR'].predict(X_test)\n",
    "metrics['SVR'] = (mean_squared_error(y_test, y_pred), root_mean_squared_error(y_test, y_pred))\n",
    "\n",
    "print('SVR best params:', grid_svr.best_params_)"
   ]
  },
  {
   "cell_type": "markdown",
   "metadata": {},
   "source": [
    "### 1.4. Random Forest Regressor"
   ]
  },
  {
   "cell_type": "code",
   "execution_count": 17,
   "metadata": {},
   "outputs": [
    {
     "name": "stdout",
     "output_type": "stream",
     "text": [
      "Random Forest best params: {'bootstrap': False, 'max_features': 'log2', 'n_estimators': 200}\n"
     ]
    }
   ],
   "source": [
    "params = {\n",
    "    'n_estimators': [10, 50, 100, 200],\n",
    "    'max_features': ['sqrt', 'log2', None],\n",
    "    'bootstrap': [True, False],\n",
    "}\n",
    "\n",
    "rf = RandomForestRegressor()\n",
    "grid_rf = GridSearchCV(rf, param_grid=params, cv=5, scoring='neg_mean_squared_error', n_jobs=-1)\n",
    "grid_rf.fit(X_train, y_train)\n",
    "\n",
    "models['Random Forest'] = grid_rf.best_estimator_\n",
    "y_pred = models['Random Forest'].predict(X_test)\n",
    "metrics['Random Forest'] = (mean_squared_error(y_test, y_pred), root_mean_squared_error(y_test, y_pred))\n",
    "\n",
    "print('Random Forest best params:', grid_rf.best_params_)"
   ]
  },
  {
   "cell_type": "markdown",
   "metadata": {},
   "source": [
    "### 1.5. Multilayer Perceptron (MLP Regressor)"
   ]
  },
  {
   "cell_type": "code",
   "execution_count": 18,
   "metadata": {},
   "outputs": [
    {
     "name": "stdout",
     "output_type": "stream",
     "text": [
      "MLP best params: {'activation': 'identity', 'hidden_layer_sizes': (100, 50), 'learning_rate': 'invscaling'}\n"
     ]
    }
   ],
   "source": [
    "params = {\n",
    "    'hidden_layer_sizes': [(50,), (100,), (100, 50)],\n",
    "    'activation': ['relu', 'tanh', 'logistic', 'identity'],\n",
    "    'learning_rate': ['constant', 'adaptive', 'invscaling'],\n",
    "}\n",
    "\n",
    "mlp = MLPRegressor(max_iter=1000)\n",
    "grid_mlp = GridSearchCV(mlp, param_grid=params, cv=5, scoring='neg_mean_squared_error', n_jobs=-1)\n",
    "grid_mlp.fit(X_train, y_train)\n",
    "\n",
    "models['MLP'] = grid_mlp.best_estimator_\n",
    "y_pred = models['MLP'].predict(X_test)\n",
    "metrics['MLP'] = (mean_squared_error(y_test, y_pred), root_mean_squared_error(y_test, y_pred))\n",
    "\n",
    "print('MLP best params:', grid_mlp.best_params_)"
   ]
  },
  {
   "cell_type": "markdown",
   "metadata": {},
   "source": [
    "## 2. Model evaluation"
   ]
  },
  {
   "cell_type": "code",
   "execution_count": 24,
   "metadata": {},
   "outputs": [
    {
     "data": {
      "text/plain": [
       "<Axes: >"
      ]
     },
     "execution_count": 24,
     "metadata": {},
     "output_type": "execute_result"
    },
    {
     "data": {
      "image/png": "[encoded data removed]",
      "text/plain": [
       "<Figure size 640x480 with 2 Axes>"
      ]
     },
     "metadata": {},
     "output_type": "display_data"
    }
   ],
   "source": [
    "metrics_df = pd.DataFrame(metrics, index=['MSE', 'RMSE'])\n",
    "\n",
    "sns.heatmap(metrics_df, annot=True)"
   ]
  },
  {
   "cell_type": "markdown",
   "metadata": {},
   "source": [
    "## Comparison\n",
    "### MSE\n",
    "- It measures the square root of the average discrepancies between a dataset's actual values and projected values.\n",
    "- The lower MSE values indicate the better model performance.\n",
    "### RMSE\n",
    "- Similar to the MSE value, it is usually used to measure the accuracy or goodness of fit of a predictive model, especially when the predictions are continuous numerical values.\n",
    "- The lower RMSE values indicate the better predictions.\n",
    "\n",
    "### Model recommendation\n",
    "#### 1. **Random Forest**:\n",
    "- Best performance in both MSE and RMSE.\n",
    "- Likely benefits from its ensemble nature, reducing overfitting while capturing complex relationships.\n",
    "#### 2. **SVR**:\n",
    "- Close second in RMSE and better than basic linear models.\n",
    "- Good at handling nonlinear relationships but may be computationally expensive for large datasets.\n",
    "#### 3. **Lasso and MLP**:\n",
    "- Similar performance, with RMSE slightly higher than Random Forest and SVR.\n",
    "- May have struggled with feature selection (Lasso) or optimization (MLP).\n",
    "#### 4. **Linear Regression**:\n",
    "- Performs the worst, likely due to its inability to capture nonlinear relationships and interactions."
   ]
  }
 ],
 "metadata": {
  "kernelspec": {
   "display_name": "min_ds-env",
   "language": "python",
   "name": "python3"
  },
  "language_info": {
   "codemirror_mode": {
    "name": "ipython",
    "version": 3
   },
   "file_extension": ".py",
   "mimetype": "text/x-python",
   "name": "python",
   "nbconvert_exporter": "python",
   "pygments_lexer": "ipython3",
   "version": "3.12.7"
  }
 },
 "nbformat": 4,
 "nbformat_minor": 2
}
